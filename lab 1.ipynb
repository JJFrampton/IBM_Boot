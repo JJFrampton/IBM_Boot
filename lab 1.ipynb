{
    "nbformat_minor": 2, 
    "cells": [
        {
            "source": "<img src = \"https://ibm.box.com/shared/static/ugcqz6ohbvff804xp84y4kqnvvk3bq1g.png\" width = 200>", 
            "cell_type": "markdown", 
            "metadata": {}
        }, 
        {
            "source": "## <center> Getting Started with Jupyter Notebooks on Cognitive Class Labs", 
            "cell_type": "markdown", 
            "metadata": {}
        }, 
        {
            "source": "Jupyter notebooks (formerly known as IPython notebooks) is a fantastic tool that every data scientist should know. Jupyter notebooks is an open-source data science tool that allows you to write and execute code, add text and images -- all within the same \"document\" called a _notebook_.  \n\nFor example, the gray cell below is a _code cell_. Within code cells, you can write code and execute them. Try executing the code cell below:", 
            "cell_type": "markdown", 
            "metadata": {}
        }, 
        {
            "source": "Click the cell below and press $Shift+Enter$ on your keyboard to run the code:", 
            "cell_type": "markdown", 
            "metadata": {}
        }, 
        {
            "execution_count": 1, 
            "cell_type": "code", 
            "metadata": {}, 
            "outputs": [
                {
                    "output_type": "stream", 
                    "name": "stdout", 
                    "text": "Hello World!\n"
                }
            ], 
            "source": "x = \"Hello World!\"\nprint(x)"
        }, 
        {
            "source": "The code is executed using the specific interpreter for this notebook. In this notebook, by default you are using **Python 3**, which you should see in the top-right corner. There are other interpreters you can choose from (e.g., **Python 2**, **R**, **Scala**), but more on this later. For now, just remember that you can only use one programming language at a time in the same Jupyter notebook.", 
            "cell_type": "markdown", 
            "metadata": {}
        }, 
        {
            "source": "Note that variables you create are also stored **in memory**. For example, if you run `print(x)` again, it will use the previously-assigned value of x (\"Hello World!).   \n\nTry running the cell below:", 
            "cell_type": "markdown", 
            "metadata": {}
        }, 
        {
            "execution_count": 4, 
            "cell_type": "code", 
            "metadata": {}, 
            "outputs": [
                {
                    "output_type": "stream", 
                    "name": "stdout", 
                    "text": "Hello World!testing\n"
                }
            ], 
            "source": "print(x + 'testing')"
        }, 
        {
            "source": "You can also try **creating your own code cells**.   \n\nSingle-click on the line below, and in the top-menu, click on **Insert -> Insert Cell Below** to create a new code cell.  \n\nTry creating a new code cell now.", 
            "cell_type": "markdown", 
            "metadata": {}
        }, 
        {
            "source": "<hr>", 
            "cell_type": "markdown", 
            "metadata": {}
        }, 
        {
            "execution_count": 6, 
            "cell_type": "code", 
            "metadata": {}, 
            "outputs": [], 
            "source": "y = 'python'\ny = y + ' the best'\nprint(y)\n"
        }, 
        {
            "source": "Now that you know how to create a code cell, try writing in some code like:\n```\ny = 1 + 1\nprint(y)\n```\nand executing it.", 
            "cell_type": "markdown", 
            "metadata": {}
        }, 
        {
            "source": " ", 
            "cell_type": "markdown", 
            "metadata": {}
        }, 
        {
            "execution_count": 10, 
            "cell_type": "code", 
            "metadata": {}, 
            "outputs": [
                {
                    "ename": "SyntaxError", 
                    "evalue": "invalid syntax (<ipython-input-10-b3f239f8e230>, line 2)", 
                    "traceback": [
                        "\u001b[0;36m  File \u001b[0;32m\"<ipython-input-10-b3f239f8e230>\"\u001b[0;36m, line \u001b[0;32m2\u001b[0m\n\u001b[0;31m    function change:\u001b[0m\n\u001b[0m                  ^\u001b[0m\n\u001b[0;31mSyntaxError\u001b[0m\u001b[0;31m:\u001b[0m invalid syntax\n"
                    ], 
                    "output_type": "error"
                }
            ], 
            "source": "y = 1\nfunction change:\n    y = 3\nchange\nprint(y)"
        }, 
        {
            "source": "### Markdown Cells", 
            "cell_type": "markdown", 
            "metadata": {}
        }, 
        {
            "source": "At this point you might be wondering how you can add in text -- like this sentence -- to your notebook. These are special types of cells called **\"markdown cells\"**. _Markdown_ simply refers to the type of formatting style.\n\nTo create a Markdown cell, first click on a code cell, then convert it to \"markdown\" by clicking on the drop-down menu, and choosing \"Markdown\":", 
            "cell_type": "markdown", 
            "metadata": {}
        }, 
        {
            "source": "Try converting this to a Markdown Cell, then press Shift+Enter.", 
            "cell_type": "markdown", 
            "metadata": {}
        }, 
        {
            "source": "To **edit Markdown cells**, you can simply double-click anywhere on a cell, and it will become editable.", 
            "cell_type": "markdown", 
            "metadata": {}
        }, 
        {
            "source": "## Here are some cool tips and tricks that you can use with Markdown formatting:", 
            "cell_type": "markdown", 
            "metadata": {}
        }, 
        {
            "source": "<a id=\"Change this into a code cell\"></a>\n# Great\n## Wow\n### Amazing\n#### Super\n\n1. Eat\n2. _Sleep_\n3. **Code**\n> Build machine learning models  \n\n<center>`Write more code`</center>\n\n- double click this cell to edit \n- memo\n\nCreate fancy $functions$\n\n<font color=\"red\">Data Science</font>  \n\n<img src = \"https://ibm.box.com/shared/static/ugcqz6ohbvff804xp84y4kqnvvk3bq1g.png\" width=100>  ", 
            "cell_type": "markdown", 
            "metadata": {}
        }
    ], 
    "metadata": {
        "kernelspec": {
            "display_name": "Python 3.5 with Spark 1.6 (Unsupported)", 
            "name": "python3", 
            "language": "python"
        }, 
        "widgets": {
            "state": {}, 
            "version": "1.1.2"
        }, 
        "language_info": {
            "mimetype": "text/x-python", 
            "nbconvert_exporter": "python", 
            "version": "3.5.4", 
            "name": "python", 
            "file_extension": ".py", 
            "pygments_lexer": "ipython3", 
            "codemirror_mode": {
                "version": 3, 
                "name": "ipython"
            }
        }
    }, 
    "nbformat": 4
}