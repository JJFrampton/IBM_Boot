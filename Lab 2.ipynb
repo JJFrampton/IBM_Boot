{
    "nbformat_minor": 2, 
    "cells": [
        {
            "source": "<a href=\"https://www.bigdatauniversity.com\"><img src = \"https://ibm.box.com/shared/static/jvcqp2iy2jlx2b32rmzdt0tx8lvxgzkp.png\" width = 300, align = \"center\"></a>\n# Data Analysis with Python I \n", 
            "cell_type": "markdown", 
            "metadata": {
                "render": true
            }
        }, 
        {
            "source": "<hr>", 
            "cell_type": "markdown", 
            "metadata": {}
        }, 
        {
            "source": "### Table of Contents \n[**Numpy Lib**](#Numpy-Lib)   \n[**Pandas Lib**](#Pandas-Lib)  \n[**CO2 emissions by Country by Year**](#CO2-emissions-by-Country-by-Year)  \n[**Get the Data**](#Get-the-Data)  \n[**Import the data using Pandas**](#Import-the-data-using-Pandas)  \n[**Dataframe characteristics **](#Dataframe-characteristics)  \n[**Subsetting the Dataframe**](#Subsetting-the-Dataframe)  \n[**Conditional Subsetting**](#Conditional-Subsetting)  \n\n\n\n", 
            "cell_type": "markdown", 
            "metadata": {}
        }, 
        {
            "source": "<hr>", 
            "cell_type": "markdown", 
            "metadata": {}
        }, 
        {
            "source": "<h1, align=\"center\">NumPy Lib</h1>\n__NumPy__: \n- Fast\n- Multidimensional Arrays \n- Vectorized Computation\n", 
            "cell_type": "markdown", 
            "metadata": {}
        }, 
        {
            "source": "### NumPy ndarray\nN-dimensional array object.  \nTo perform mathematical operations on whole blocks of data. ", 
            "cell_type": "markdown", 
            "metadata": {}
        }, 
        {
            "execution_count": 1, 
            "cell_type": "code", 
            "metadata": {}, 
            "outputs": [], 
            "source": "# to insert a library (a file consisting of Python code) use \"import\"\nimport numpy as np"
        }, 
        {
            "source": "#### Creating ndarrays\n- Use the __array__ function.  \n- All of the elements must be the __same type__ (homogeneous)", 
            "cell_type": "markdown", 
            "metadata": {}
        }, 
        {
            "execution_count": 2, 
            "cell_type": "code", 
            "metadata": {}, 
            "outputs": [
                {
                    "execution_count": 2, 
                    "metadata": {}, 
                    "data": {
                        "text/plain": "array([[ 1.9526, -0.246 , -0.8856],\n       [ 0.5639,  0.2379,  0.9104]])"
                    }, 
                    "output_type": "execute_result"
                }
            ], 
            "source": "data = np.array([[ 1.9526, -0.246 , -0.8856],\n[ 0.5639, 0.2379, 0.9104]])\ndata"
        }, 
        {
            "source": "Every array has __number of dimensions__ and __shape__ (a tuple indicating the size of each dimension)", 
            "cell_type": "markdown", 
            "metadata": {}
        }, 
        {
            "execution_count": 3, 
            "cell_type": "code", 
            "metadata": {}, 
            "outputs": [
                {
                    "execution_count": 3, 
                    "metadata": {}, 
                    "data": {
                        "text/plain": "2"
                    }, 
                    "output_type": "execute_result"
                }
            ], 
            "source": "data.ndim"
        }, 
        {
            "execution_count": 4, 
            "cell_type": "code", 
            "metadata": {}, 
            "outputs": [
                {
                    "execution_count": 4, 
                    "metadata": {}, 
                    "data": {
                        "text/plain": "(2, 3)"
                    }, 
                    "output_type": "execute_result"
                }
            ], 
            "source": "data.shape"
        }, 
        {
            "source": "__dtype:__ an object describing the data type of the array:\n", 
            "cell_type": "markdown", 
            "metadata": {}
        }, 
        {
            "execution_count": 5, 
            "cell_type": "code", 
            "metadata": {}, 
            "outputs": [
                {
                    "execution_count": 5, 
                    "metadata": {}, 
                    "data": {
                        "text/plain": "dtype('float64')"
                    }, 
                    "output_type": "execute_result"
                }
            ], 
            "source": "data.dtype"
        }, 
        {
            "source": "__empty__, __range__ , __zeros__ and **ones** arrays", 
            "cell_type": "markdown", 
            "metadata": {}
        }, 
        {
            "execution_count": 6, 
            "cell_type": "code", 
            "metadata": {
                "scrolled": true
            }, 
            "outputs": [
                {
                    "execution_count": 6, 
                    "metadata": {}, 
                    "data": {
                        "text/plain": "array([[ 1.9526,  0.246 ],\n       [ 0.8856,  0.5639],\n       [ 0.2379,  0.9104]])"
                    }, 
                    "output_type": "execute_result"
                }
            ], 
            "source": "data1 = np.empty((3,2))\ndata1"
        }, 
        {
            "execution_count": 7, 
            "cell_type": "code", 
            "metadata": {}, 
            "outputs": [
                {
                    "execution_count": 7, 
                    "metadata": {}, 
                    "data": {
                        "text/plain": "array([ 0.,  0.,  0.,  0.,  0.,  0.,  0.,  0.,  0.,  0.])"
                    }, 
                    "output_type": "execute_result"
                }
            ], 
            "source": "data0 = np.zeros(10)\ndata0"
        }, 
        {
            "execution_count": 8, 
            "cell_type": "code", 
            "metadata": {}, 
            "outputs": [
                {
                    "execution_count": 8, 
                    "metadata": {}, 
                    "data": {
                        "text/plain": "array([0, 1, 2, 3, 4, 5, 6, 7, 8, 9])"
                    }, 
                    "output_type": "execute_result"
                }
            ], 
            "source": "data3 = np.arange(10)\ndata3"
        }, 
        {
            "source": "### <span style=\"color: red\">YOUR TURN:</span> \ncreate a 2x4 array of ones and find the data type and shape of the array", 
            "cell_type": "markdown", 
            "metadata": {}
        }, 
        {
            "execution_count": 13, 
            "cell_type": "code", 
            "metadata": {}, 
            "outputs": [
                {
                    "output_type": "stream", 
                    "name": "stdout", 
                    "text": "[[1 1 1 1]\n [1 1 1 1]]\nint64\n(2, 4)\n"
                }
            ], 
            "source": "#You code\n\ndata2x4= np.array([[1,1,1,1],[1,1,1,1]])\nprint(data2x4)\nprint(data2x4.dtype)\nprint(data2x4.shape)\n"
        }, 
        {
            "source": "#### Data Types", 
            "cell_type": "markdown", 
            "metadata": {}
        }, 
        {
            "execution_count": 15, 
            "cell_type": "code", 
            "metadata": {}, 
            "outputs": [
                {
                    "execution_count": 15, 
                    "metadata": {}, 
                    "data": {
                        "text/plain": "array([b'1.25', b'-9.6', b'42'],\n      dtype='|S4')"
                    }, 
                    "output_type": "execute_result"
                }
            ], 
            "source": "data = np.array([1.25, -9.6, 42], dtype=np.string_)\ndata"
        }, 
        {
            "source": "cast to floating point", 
            "cell_type": "markdown", 
            "metadata": {}
        }, 
        {
            "execution_count": 16, 
            "cell_type": "code", 
            "metadata": {}, 
            "outputs": [
                {
                    "execution_count": 16, 
                    "metadata": {}, 
                    "data": {
                        "text/plain": "array([  1.25      ,  -9.60000038,  42.        ], dtype=float32)"
                    }, 
                    "output_type": "execute_result"
                }
            ], 
            "source": "data.astype(np.float32) #this is casting old array into new data types"
        }, 
        {
            "source": "### Operations", 
            "cell_type": "markdown", 
            "metadata": {}
        }, 
        {
            "execution_count": 18, 
            "cell_type": "code", 
            "metadata": {}, 
            "outputs": [
                {
                    "execution_count": 18, 
                    "metadata": {}, 
                    "data": {
                        "text/plain": "array([[ 1.,  2.,  3.],\n       [ 4.,  5.,  6.]])"
                    }, 
                    "output_type": "execute_result"
                }
            ], 
            "source": "arr = np.array([[1., 2., 3.], [4., 5., 6.]])\narr"
        }, 
        {
            "source": "Arithmetic operations", 
            "cell_type": "markdown", 
            "metadata": {}
        }, 
        {
            "execution_count": 19, 
            "cell_type": "code", 
            "metadata": {}, 
            "outputs": [
                {
                    "execution_count": 19, 
                    "metadata": {}, 
                    "data": {
                        "text/plain": "array([[  2.,   4.,   6.],\n       [  8.,  10.,  12.]])"
                    }, 
                    "output_type": "execute_result"
                }
            ], 
            "source": "arr*2"
        }, 
        {
            "execution_count": 20, 
            "cell_type": "code", 
            "metadata": {}, 
            "outputs": [
                {
                    "execution_count": 20, 
                    "metadata": {}, 
                    "data": {
                        "text/plain": "array([[  1.,   4.,   9.],\n       [ 16.,  25.,  36.]])"
                    }, 
                    "output_type": "execute_result"
                }
            ], 
            "source": "arr*arr"
        }, 
        {
            "source": "### Indexing and Slicing\nto select a subset of your data or individual elements", 
            "cell_type": "markdown", 
            "metadata": {}
        }, 
        {
            "execution_count": 22, 
            "cell_type": "code", 
            "metadata": {}, 
            "outputs": [
                {
                    "execution_count": 22, 
                    "metadata": {}, 
                    "data": {
                        "text/plain": "array([0, 1, 2, 3, 4, 5, 6, 7, 8, 9])"
                    }, 
                    "output_type": "execute_result"
                }
            ], 
            "source": "arr = np.arange(10)\narr"
        }, 
        {
            "source": "Same as Python lists:", 
            "cell_type": "markdown", 
            "metadata": {}
        }, 
        {
            "execution_count": 23, 
            "cell_type": "code", 
            "metadata": {}, 
            "outputs": [
                {
                    "execution_count": 23, 
                    "metadata": {}, 
                    "data": {
                        "text/plain": "5"
                    }, 
                    "output_type": "execute_result"
                }
            ], 
            "source": "arr[5]"
        }, 
        {
            "execution_count": 25, 
            "cell_type": "code", 
            "metadata": {
                "scrolled": true
            }, 
            "outputs": [
                {
                    "execution_count": 25, 
                    "metadata": {}, 
                    "data": {
                        "text/plain": "array([5, 6, 7])"
                    }, 
                    "output_type": "execute_result"
                }
            ], 
            "source": "arr[5:8]"
        }, 
        {
            "source": "you assign a scalar value to a slice:", 
            "cell_type": "markdown", 
            "metadata": {}
        }, 
        {
            "execution_count": 26, 
            "cell_type": "code", 
            "metadata": {}, 
            "outputs": [
                {
                    "execution_count": 26, 
                    "metadata": {}, 
                    "data": {
                        "text/plain": "array([ 0,  1,  2,  3,  4, 12, 12, 12,  8,  9])"
                    }, 
                    "output_type": "execute_result"
                }
            ], 
            "source": "arr[5:8] = 12\narr"
        }, 
        {
            "execution_count": null, 
            "cell_type": "code", 
            "metadata": {}, 
            "outputs": [], 
            "source": "arr[5:]"
        }, 
        {
            "source": "in n-dimensional array, the elements at each index are no longer scalars but rather one-dimensional arrays", 
            "cell_type": "markdown", 
            "metadata": {}
        }, 
        {
            "execution_count": 27, 
            "cell_type": "code", 
            "metadata": {}, 
            "outputs": [
                {
                    "execution_count": 27, 
                    "metadata": {}, 
                    "data": {
                        "text/plain": "array([[1, 2, 3],\n       [4, 5, 6],\n       [7, 8, 9]])"
                    }, 
                    "output_type": "execute_result"
                }
            ], 
            "source": "arr2d = np.array([[1, 2, 3], [4, 5, 6], [7, 8, 9]])\narr2d"
        }, 
        {
            "execution_count": 29, 
            "cell_type": "code", 
            "metadata": {}, 
            "outputs": [
                {
                    "execution_count": 29, 
                    "metadata": {}, 
                    "data": {
                        "text/plain": "array([7, 8, 9])"
                    }, 
                    "output_type": "execute_result"
                }
            ], 
            "source": "arr2d[2]\n"
        }, 
        {
            "execution_count": 30, 
            "cell_type": "code", 
            "metadata": {}, 
            "outputs": [
                {
                    "execution_count": 30, 
                    "metadata": {}, 
                    "data": {
                        "text/plain": "3"
                    }, 
                    "output_type": "execute_result"
                }
            ], 
            "source": "arr2d[0][2]   # also: arr2d[0, 2]"
        }, 
        {
            "execution_count": 31, 
            "cell_type": "code", 
            "metadata": {}, 
            "outputs": [
                {
                    "execution_count": 31, 
                    "metadata": {}, 
                    "data": {
                        "text/plain": "array([[7, 8, 9]])"
                    }, 
                    "output_type": "execute_result"
                }
            ], 
            "source": "arr2d[2:]"
        }, 
        {
            "source": "sliced along axis 0, the first axis  \ne.g. The first two rows, and the last two columns", 
            "cell_type": "markdown", 
            "metadata": {}
        }, 
        {
            "execution_count": 42, 
            "cell_type": "code", 
            "metadata": {}, 
            "outputs": [
                {
                    "execution_count": 42, 
                    "metadata": {}, 
                    "data": {
                        "text/plain": "array([2, 5, 8])"
                    }, 
                    "output_type": "execute_result"
                }
            ], 
            "source": "arr2d[:3, 1]"
        }, 
        {
            "source": "### Boolean Indexing", 
            "cell_type": "markdown", 
            "metadata": {}
        }, 
        {
            "execution_count": 43, 
            "cell_type": "code", 
            "metadata": {
                "scrolled": true
            }, 
            "outputs": [
                {
                    "execution_count": 43, 
                    "metadata": {}, 
                    "data": {
                        "text/plain": "array([[ 0.7237165 ,  0.47356256,  0.83670582,  0.4932561 ],\n       [ 0.13016602,  0.65359208,  0.16800025,  0.88494227],\n       [ 0.18893947,  0.43851666,  0.16913188,  0.04401804],\n       [ 0.91843808,  0.61281645,  0.74275246,  0.26576825],\n       [ 0.24806737,  0.88007237,  0.08016854,  0.64481533],\n       [ 0.32024567,  0.33804403,  0.83857029,  0.48108211],\n       [ 0.25347398,  0.41868508,  0.89839544,  0.28907641]])"
                    }, 
                    "output_type": "execute_result"
                }
            ], 
            "source": "data = np.random.rand(7,4)\ndata"
        }, 
        {
            "execution_count": 44, 
            "cell_type": "code", 
            "metadata": {}, 
            "outputs": [
                {
                    "execution_count": 44, 
                    "metadata": {}, 
                    "data": {
                        "text/plain": "array([[ True,  True,  True,  True],\n       [False,  True, False,  True],\n       [False,  True, False, False],\n       [ True,  True,  True, False],\n       [False,  True, False,  True],\n       [False, False,  True,  True],\n       [False,  True,  True, False]], dtype=bool)"
                    }, 
                    "output_type": "execute_result"
                }
            ], 
            "source": "data > 0.4    # Comparison Operators: ==, !=, &, |"
        }, 
        {
            "execution_count": 45, 
            "cell_type": "code", 
            "metadata": {}, 
            "outputs": [
                {
                    "execution_count": 45, 
                    "metadata": {}, 
                    "data": {
                        "text/plain": "array([ 0.7237165 ,  0.47356256,  0.83670582,  0.4932561 ,  0.65359208,\n        0.88494227,  0.43851666,  0.91843808,  0.61281645,  0.74275246,\n        0.88007237,  0.64481533,  0.83857029,  0.48108211,  0.41868508,\n        0.89839544])"
                    }, 
                    "output_type": "execute_result"
                }
            ], 
            "source": "data[(data>0.4)]"
        }, 
        {
            "source": "### Functions", 
            "cell_type": "markdown", 
            "metadata": {}
        }, 
        {
            "execution_count": 46, 
            "cell_type": "code", 
            "metadata": {}, 
            "outputs": [
                {
                    "execution_count": 46, 
                    "metadata": {}, 
                    "data": {
                        "text/plain": "array([ 0.        ,  1.        ,  1.41421356,  1.73205081,  2.        ])"
                    }, 
                    "output_type": "execute_result"
                }
            ], 
            "source": "arr = np.arange(5)\nnp.sqrt(arr)   #squar root function"
        }, 
        {
            "execution_count": 47, 
            "cell_type": "code", 
            "metadata": {}, 
            "outputs": [
                {
                    "execution_count": 47, 
                    "metadata": {}, 
                    "data": {
                        "text/plain": "array([  1.        ,   2.71828183,   7.3890561 ,  20.08553692,  54.59815003])"
                    }, 
                    "output_type": "execute_result"
                }
            ], 
            "source": "np.exp(arr)   #exponentiation function"
        }, 
        {
            "execution_count": 48, 
            "cell_type": "code", 
            "metadata": {}, 
            "outputs": [
                {
                    "execution_count": 48, 
                    "metadata": {}, 
                    "data": {
                        "text/plain": "2.0"
                    }, 
                    "output_type": "execute_result"
                }
            ], 
            "source": "np.mean(arr) #average function"
        }, 
        {
            "source": "### <span style=\"color: red\">YOUR TURN:</span> ", 
            "cell_type": "markdown", 
            "metadata": {}
        }, 
        {
            "source": "Create a 3x2 numpy array (use __ones__ function), and select its second row", 
            "cell_type": "markdown", 
            "metadata": {}
        }, 
        {
            "execution_count": 56, 
            "cell_type": "code", 
            "metadata": {}, 
            "outputs": [
                {
                    "output_type": "stream", 
                    "name": "stdout", 
                    "text": "[[ 1.  1.]\n [ 1.  1.]\n [ 1.  1.]]\n"
                }, 
                {
                    "execution_count": 56, 
                    "metadata": {}, 
                    "data": {
                        "text/plain": "array([ 1.,  1.])"
                    }, 
                    "output_type": "execute_result"
                }
            ], 
            "source": "## YOUR CODE BELOW\n\nmy_array = np.ones([3,2])\nprint(my_array)\nmy_array[1]\n\n"
        }, 
        {
            "source": "<h1, align=\"center\">Pandas Lib</h1>", 
            "cell_type": "markdown", 
            "metadata": {}
        }, 
        {
            "source": "Pandas\n- for most kinds of data analysis\n- for structured or tabular data\n- high-level data structure\n- built on top of NumPy  \n- time series manipulation\n\n\nObjects:  \n- Series  \n- DataFrame  \n\n", 
            "cell_type": "markdown", 
            "metadata": {}
        }, 
        {
            "source": "First, import the Pandas package", 
            "cell_type": "markdown", 
            "metadata": {}
        }, 
        {
            "execution_count": 57, 
            "cell_type": "code", 
            "metadata": {}, 
            "outputs": [], 
            "source": "import pandas as pd"
        }, 
        {
            "source": "#### Series", 
            "cell_type": "markdown", 
            "metadata": {}
        }, 
        {
            "source": "A Series is a one-dimensional array-like object containing an array of data (of any NumPy data type) and an associated array of data labels, called its index. ", 
            "cell_type": "markdown", 
            "metadata": {}
        }, 
        {
            "execution_count": 58, 
            "cell_type": "code", 
            "metadata": {}, 
            "outputs": [
                {
                    "execution_count": 58, 
                    "metadata": {}, 
                    "data": {
                        "text/plain": "d    4\nb    7\na   -5\nc    3\ndtype: int64"
                    }, 
                    "output_type": "execute_result"
                }
            ], 
            "source": "obj2 = pd.Series([4, 7, -5, 3], index=['d', 'b', 'a', 'c'])\nobj2"
        }, 
        {
            "execution_count": 59, 
            "cell_type": "code", 
            "metadata": {}, 
            "outputs": [
                {
                    "execution_count": 59, 
                    "metadata": {}, 
                    "data": {
                        "text/plain": "c    3\na   -5\nd    4\ndtype: int64"
                    }, 
                    "output_type": "execute_result"
                }
            ], 
            "source": "obj2[['c', 'a', 'd']]"
        }, 
        {
            "execution_count": 64, 
            "cell_type": "code", 
            "metadata": {}, 
            "outputs": [
                {
                    "output_type": "stream", 
                    "name": "stdout", 
                    "text": "True\nd    False\nb    False\na     True\nc    False\ndtype: bool\n"
                }, 
                {
                    "execution_count": 64, 
                    "metadata": {}, 
                    "data": {
                        "text/plain": "a   -5\ndtype: int64"
                    }, 
                    "output_type": "execute_result"
                }
            ], 
            "source": "print('b' in obj2)\n\nprint(obj2 ==-5)\n\n# like a mask\nobj2[obj2 ==-5]"
        }, 
        {
            "source": "# DataFrame\n- represents a tabular, spreadsheet-like data structure \n- ceach columns can be a different value type (numeric, string, boolean, etc.)\n- has both a row and column index", 
            "cell_type": "markdown", 
            "metadata": {}
        }, 
        {
            "source": "## CO2 emissions by Country by Year", 
            "cell_type": "markdown", 
            "metadata": {}
        }, 
        {
            "source": "Carbon dioxide emissions are those stemming from the burning of fossil fuels and the manufacture of cement. They include carbon dioxide produced during consumption of solid, liquid, and gas fuels and gas flaring.", 
            "cell_type": "markdown", 
            "metadata": {}
        }, 
        {
            "source": "http://data.worldbank.org/indicator/EN.ATM.CO2E.PC/", 
            "cell_type": "markdown", 
            "metadata": {}
        }, 
        {
            "source": "## Get the Data", 
            "cell_type": "markdown", 
            "metadata": {}
        }, 
        {
            "source": "(Optional:) Data can be downloaded from The World Bank [here](http://data.worldbank.org/indicator/EN.ATM.CO2E.PC/) or from Box [here](https://ibm.box.com/shared/static/3yzxbbizo49bkl8cnjw15tymzfwkycj4.csv)", 
            "cell_type": "markdown", 
            "metadata": {}
        }, 
        {
            "source": "#### Here, we will use the bash command, `wget`, to fetch the csv file from a direct link", 
            "cell_type": "markdown", 
            "metadata": {}
        }, 
        {
            "execution_count": 65, 
            "cell_type": "code", 
            "metadata": {}, 
            "outputs": [
                {
                    "output_type": "stream", 
                    "name": "stdout", 
                    "text": "--2018-03-09 15:36:41--  https://ibm.box.com/shared/static/3yzxbbizo49bkl8cnjw15tymzfwkycj4.csv\nResolving ibm.box.com (ibm.box.com)... 107.152.27.197\nConnecting to ibm.box.com (ibm.box.com)|107.152.27.197|:443... connected.\nHTTP request sent, awaiting response... 301 Moved Permanently\nLocation: https://ibm.ent.box.com/shared/static/3yzxbbizo49bkl8cnjw15tymzfwkycj4.csv [following]\n--2018-03-09 15:36:42--  https://ibm.ent.box.com/shared/static/3yzxbbizo49bkl8cnjw15tymzfwkycj4.csv\nResolving ibm.ent.box.com (ibm.ent.box.com)... 107.152.27.211\nConnecting to ibm.ent.box.com (ibm.ent.box.com)|107.152.27.211|:443... connected.\nHTTP request sent, awaiting response... 302 Found\nLocation: https://public.boxcloud.com/d/1/XwYvYAwqzXjNeXCyLrX6eHIAizKY36qKPxX5vFD8Qec_SHSIdNIsCk4XAiy-3vsLxHEzQrt17FRfPUL4H1ygM3EhaMAnKrqf4rm4RW3esqGnmkT7PuEyVBPeEsqWNTWVR0k0c8WtMYIjLcLHFjIEtb86id-k21jmmRixPeirrjwPF9rZE_sdjDdRYASfuRM1_YWKDiKYjnr-j1uxGTY3OjjrpMZrSrKR5FqyNu-Ky2GmaxoEUungAEALXGVtYEJ5YhMRQjVr_diHu0ogqJuNxGNV46htC01QxV3sS_GtBINZrKret8hh7jfZyaPoCPRs1L1yEXSxR698I2D1nlRQWImMUouXVRENSQc3p0NznsCtDbj46DPqxgaKI07Ekn5G5lg9KBgr8KDTZJu15TrZfLIhJSUAppVkP1D19FsRYD3Z_TrUCmffSX2jNnSTyo7VugJ7fVhsX1gq-fpkdUoo4Wy1-QfU47LnF9wlWocs3T4NDLL1lJ-DvQno-GRM1LOqmOdfKYANjMsexdHVuPB0rSC-qr0rmhbdyyzg-ebvJd_MRHUGH7h0cEnRZSoC2qOMua29OytEIT-632FSYnB_gSP7OqjsAuyqcZSA-0LMidtY0zP9_HutWgdYfhlfK8p1tcptVFv1UzsCYOwzcaOwfBjeLNnNg76r_gpL2Yl6i5sK8FmaVuKGm3QKqLgSaNS1X7_cLr5sJrkJ6U3qoH8WkuHD1VVP3UL7L7E5XcyQmwV0GaIq5kEkoKEo9LEnXp80EXO9L_AeQuqSxKg3o0nljBFxkhkF038wzHS98SYSZWYvvYahm-tVzQJl8ZpoBt4CO0wmkg4GX79gWAPbH9NkjejfzBkod9wNMjMTgPGC-_Dd2eA64dmYRRyqrs9AO50W3oHXy7aFmfZG6CE0lefTUXVF6RiKuE_J7oVtQNOYPNH2fFluSOUGO6nmpIfPXGpBhvw3WJeBYBh7KQ5ysEQewXGhZwFRYuG0SXrXkNQonZ7_XW5nl3UXZAXrn16u5fiwfy9ZMyaglD8iB1XvwjPvsTk9mxgjkUCvMhkw5v80u_bi5JySUSAncLp__25VENcJ998IbdLbCQP7dsA-6LKeJpwSKHwLNFWlo8WdXgyhQkeHNa7u3UurxbdWDELuEVorJChXsCHXwDxBjKoNaVAWHWlC7wIIgdTuFts-2BQftPWRERJCdd2p2xELZv1-5yVhXQ1QnoaW4xXaKtWmYC-PlV-j5xwW-kx-bbM8oqPEFts7Wkg0vRZ4qOwzXbXU7Bi3_Nr3tD4nGIZpEAlojn8inMIP4yNJ1y5yaSDw2mudiRKPxdKO7h7Gp3idbeOR9IPdkCBLl02o3e3FXujPO8S0bg3Xj59XMpDXOAdHtLqmlsQU0BAKJlRxWM_0hWU./download [following]\n--2018-03-09 15:36:43--  https://public.boxcloud.com/d/1/XwYvYAwqzXjNeXCyLrX6eHIAizKY36qKPxX5vFD8Qec_SHSIdNIsCk4XAiy-3vsLxHEzQrt17FRfPUL4H1ygM3EhaMAnKrqf4rm4RW3esqGnmkT7PuEyVBPeEsqWNTWVR0k0c8WtMYIjLcLHFjIEtb86id-k21jmmRixPeirrjwPF9rZE_sdjDdRYASfuRM1_YWKDiKYjnr-j1uxGTY3OjjrpMZrSrKR5FqyNu-Ky2GmaxoEUungAEALXGVtYEJ5YhMRQjVr_diHu0ogqJuNxGNV46htC01QxV3sS_GtBINZrKret8hh7jfZyaPoCPRs1L1yEXSxR698I2D1nlRQWImMUouXVRENSQc3p0NznsCtDbj46DPqxgaKI07Ekn5G5lg9KBgr8KDTZJu15TrZfLIhJSUAppVkP1D19FsRYD3Z_TrUCmffSX2jNnSTyo7VugJ7fVhsX1gq-fpkdUoo4Wy1-QfU47LnF9wlWocs3T4NDLL1lJ-DvQno-GRM1LOqmOdfKYANjMsexdHVuPB0rSC-qr0rmhbdyyzg-ebvJd_MRHUGH7h0cEnRZSoC2qOMua29OytEIT-632FSYnB_gSP7OqjsAuyqcZSA-0LMidtY0zP9_HutWgdYfhlfK8p1tcptVFv1UzsCYOwzcaOwfBjeLNnNg76r_gpL2Yl6i5sK8FmaVuKGm3QKqLgSaNS1X7_cLr5sJrkJ6U3qoH8WkuHD1VVP3UL7L7E5XcyQmwV0GaIq5kEkoKEo9LEnXp80EXO9L_AeQuqSxKg3o0nljBFxkhkF038wzHS98SYSZWYvvYahm-tVzQJl8ZpoBt4CO0wmkg4GX79gWAPbH9NkjejfzBkod9wNMjMTgPGC-_Dd2eA64dmYRRyqrs9AO50W3oHXy7aFmfZG6CE0lefTUXVF6RiKuE_J7oVtQNOYPNH2fFluSOUGO6nmpIfPXGpBhvw3WJeBYBh7KQ5ysEQewXGhZwFRYuG0SXrXkNQonZ7_XW5nl3UXZAXrn16u5fiwfy9ZMyaglD8iB1XvwjPvsTk9mxgjkUCvMhkw5v80u_bi5JySUSAncLp__25VENcJ998IbdLbCQP7dsA-6LKeJpwSKHwLNFWlo8WdXgyhQkeHNa7u3UurxbdWDELuEVorJChXsCHXwDxBjKoNaVAWHWlC7wIIgdTuFts-2BQftPWRERJCdd2p2xELZv1-5yVhXQ1QnoaW4xXaKtWmYC-PlV-j5xwW-kx-bbM8oqPEFts7Wkg0vRZ4qOwzXbXU7Bi3_Nr3tD4nGIZpEAlojn8inMIP4yNJ1y5yaSDw2mudiRKPxdKO7h7Gp3idbeOR9IPdkCBLl02o3e3FXujPO8S0bg3Xj59XMpDXOAdHtLqmlsQU0BAKJlRxWM_0hWU./download\nResolving public.boxcloud.com (public.boxcloud.com)... 107.152.27.200\nConnecting to public.boxcloud.com (public.boxcloud.com)|107.152.27.200|:443... connected.\nHTTP request sent, awaiting response... 200 OK\nLength: 237281 (232K) [text/csv]\nSaving to: \u2018co2emissions.csv\u2019\n\n100%[======================================>] 237,281      935KB/s   in 0.2s   \n\n2018-03-09 15:36:44 (935 KB/s) - \u2018co2emissions.csv\u2019 saved [237281/237281]\n\n"
                }
            ], 
            "source": "!wget --output-document co2emissions.csv https://ibm.box.com/shared/static/3yzxbbizo49bkl8cnjw15tymzfwkycj4.csv"
        }, 
        {
            "source": "<hr>", 
            "cell_type": "markdown", 
            "metadata": {}
        }, 
        {
            "source": "<h2, align=center>Import the data using Pandas</h2>", 
            "cell_type": "markdown", 
            "metadata": {}
        }, 
        {
            "source": "#### Import required `pandas` library", 
            "cell_type": "markdown", 
            "metadata": {}
        }, 
        {
            "execution_count": 67, 
            "cell_type": "code", 
            "metadata": {}, 
            "outputs": [], 
            "source": "import pandas as pd"
        }, 
        {
            "source": "#### Import data using `pd.read_csv`", 
            "cell_type": "markdown", 
            "metadata": {}
        }, 
        {
            "execution_count": 68, 
            "cell_type": "code", 
            "metadata": {}, 
            "outputs": [], 
            "source": "data = pd.read_csv(\"co2emissions.csv\", skiprows = 4)"
        }, 
        {
            "execution_count": 70, 
            "cell_type": "code", 
            "metadata": {}, 
            "outputs": [
                {
                    "execution_count": 70, 
                    "metadata": {}, 
                    "data": {
                        "text/plain": "pandas.core.frame.DataFrame"
                    }, 
                    "output_type": "execute_result"
                }
            ], 
            "source": "type(data) #Checks the type of object"
        }, 
        {
            "execution_count": 71, 
            "cell_type": "code", 
            "metadata": {}, 
            "outputs": [
                {
                    "execution_count": 71, 
                    "metadata": {}, 
                    "data": {
                        "text/html": "<div>\n<style scoped>\n    .dataframe tbody tr th:only-of-type {\n        vertical-align: middle;\n    }\n\n    .dataframe tbody tr th {\n        vertical-align: top;\n    }\n\n    .dataframe thead th {\n        text-align: right;\n    }\n</style>\n<table border=\"1\" class=\"dataframe\">\n  <thead>\n    <tr style=\"text-align: right;\">\n      <th></th>\n      <th>Country Name</th>\n      <th>Country Code</th>\n      <th>Indicator Name</th>\n      <th>Indicator Code</th>\n      <th>1960</th>\n      <th>1961</th>\n      <th>1962</th>\n      <th>1963</th>\n      <th>1964</th>\n      <th>1965</th>\n      <th>...</th>\n      <th>2007</th>\n      <th>2008</th>\n      <th>2009</th>\n      <th>2010</th>\n      <th>2011</th>\n      <th>2012</th>\n      <th>2013</th>\n      <th>2014</th>\n      <th>2015</th>\n      <th>Unnamed: 60</th>\n    </tr>\n  </thead>\n  <tbody>\n    <tr>\n      <th>0</th>\n      <td>Aruba</td>\n      <td>ABW</td>\n      <td>CO2 emissions (metric tons per capita)</td>\n      <td>EN.ATM.CO2E.PC</td>\n      <td>NaN</td>\n      <td>NaN</td>\n      <td>NaN</td>\n      <td>NaN</td>\n      <td>NaN</td>\n      <td>NaN</td>\n      <td>...</td>\n      <td>25.613715</td>\n      <td>24.750133</td>\n      <td>24.876706</td>\n      <td>24.182702</td>\n      <td>23.922412</td>\n      <td>NaN</td>\n      <td>NaN</td>\n      <td>NaN</td>\n      <td>NaN</td>\n      <td>NaN</td>\n    </tr>\n    <tr>\n      <th>1</th>\n      <td>Andorra</td>\n      <td>AND</td>\n      <td>CO2 emissions (metric tons per capita)</td>\n      <td>EN.ATM.CO2E.PC</td>\n      <td>NaN</td>\n      <td>NaN</td>\n      <td>NaN</td>\n      <td>NaN</td>\n      <td>NaN</td>\n      <td>NaN</td>\n      <td>...</td>\n      <td>6.350868</td>\n      <td>6.296125</td>\n      <td>6.049173</td>\n      <td>6.124770</td>\n      <td>5.968685</td>\n      <td>NaN</td>\n      <td>NaN</td>\n      <td>NaN</td>\n      <td>NaN</td>\n      <td>NaN</td>\n    </tr>\n    <tr>\n      <th>2</th>\n      <td>Afghanistan</td>\n      <td>AFG</td>\n      <td>CO2 emissions (metric tons per capita)</td>\n      <td>EN.ATM.CO2E.PC</td>\n      <td>0.046068</td>\n      <td>0.053615</td>\n      <td>0.073781</td>\n      <td>0.074251</td>\n      <td>0.086317</td>\n      <td>0.101499</td>\n      <td>...</td>\n      <td>0.088141</td>\n      <td>0.158962</td>\n      <td>0.249074</td>\n      <td>0.302936</td>\n      <td>0.425262</td>\n      <td>NaN</td>\n      <td>NaN</td>\n      <td>NaN</td>\n      <td>NaN</td>\n      <td>NaN</td>\n    </tr>\n    <tr>\n      <th>3</th>\n      <td>Angola</td>\n      <td>AGO</td>\n      <td>CO2 emissions (metric tons per capita)</td>\n      <td>EN.ATM.CO2E.PC</td>\n      <td>0.104357</td>\n      <td>0.084718</td>\n      <td>0.216025</td>\n      <td>0.206877</td>\n      <td>0.216174</td>\n      <td>0.206089</td>\n      <td>...</td>\n      <td>1.311096</td>\n      <td>1.369425</td>\n      <td>1.430873</td>\n      <td>1.401654</td>\n      <td>1.354008</td>\n      <td>NaN</td>\n      <td>NaN</td>\n      <td>NaN</td>\n      <td>NaN</td>\n      <td>NaN</td>\n    </tr>\n    <tr>\n      <th>4</th>\n      <td>Albania</td>\n      <td>ALB</td>\n      <td>CO2 emissions (metric tons per capita)</td>\n      <td>EN.ATM.CO2E.PC</td>\n      <td>1.258195</td>\n      <td>1.374186</td>\n      <td>1.439956</td>\n      <td>1.181681</td>\n      <td>1.111742</td>\n      <td>1.166099</td>\n      <td>...</td>\n      <td>1.507536</td>\n      <td>1.580113</td>\n      <td>1.533178</td>\n      <td>1.515632</td>\n      <td>1.607038</td>\n      <td>NaN</td>\n      <td>NaN</td>\n      <td>NaN</td>\n      <td>NaN</td>\n      <td>NaN</td>\n    </tr>\n    <tr>\n      <th>5</th>\n      <td>Arab World</td>\n      <td>ARB</td>\n      <td>CO2 emissions (metric tons per capita)</td>\n      <td>EN.ATM.CO2E.PC</td>\n      <td>0.643964</td>\n      <td>0.685501</td>\n      <td>0.761148</td>\n      <td>0.875124</td>\n      <td>0.999248</td>\n      <td>1.166075</td>\n      <td>...</td>\n      <td>4.181153</td>\n      <td>4.373573</td>\n      <td>4.575251</td>\n      <td>4.764912</td>\n      <td>4.724500</td>\n      <td>NaN</td>\n      <td>NaN</td>\n      <td>NaN</td>\n      <td>NaN</td>\n      <td>NaN</td>\n    </tr>\n    <tr>\n      <th>6</th>\n      <td>United Arab Emirates</td>\n      <td>ARE</td>\n      <td>CO2 emissions (metric tons per capita)</td>\n      <td>EN.ATM.CO2E.PC</td>\n      <td>0.118786</td>\n      <td>0.108937</td>\n      <td>0.163355</td>\n      <td>0.175712</td>\n      <td>0.132651</td>\n      <td>0.146370</td>\n      <td>...</td>\n      <td>23.195067</td>\n      <td>23.033600</td>\n      <td>21.102296</td>\n      <td>20.120957</td>\n      <td>20.433838</td>\n      <td>NaN</td>\n      <td>NaN</td>\n      <td>NaN</td>\n      <td>NaN</td>\n      <td>NaN</td>\n    </tr>\n    <tr>\n      <th>7</th>\n      <td>Argentina</td>\n      <td>ARG</td>\n      <td>CO2 emissions (metric tons per capita)</td>\n      <td>EN.ATM.CO2E.PC</td>\n      <td>2.367473</td>\n      <td>2.442616</td>\n      <td>2.522392</td>\n      <td>2.316356</td>\n      <td>2.538380</td>\n      <td>2.641714</td>\n      <td>...</td>\n      <td>4.496834</td>\n      <td>4.744178</td>\n      <td>4.427960</td>\n      <td>4.342272</td>\n      <td>4.562049</td>\n      <td>NaN</td>\n      <td>NaN</td>\n      <td>NaN</td>\n      <td>NaN</td>\n      <td>NaN</td>\n    </tr>\n    <tr>\n      <th>8</th>\n      <td>Armenia</td>\n      <td>ARM</td>\n      <td>CO2 emissions (metric tons per capita)</td>\n      <td>EN.ATM.CO2E.PC</td>\n      <td>NaN</td>\n      <td>NaN</td>\n      <td>NaN</td>\n      <td>NaN</td>\n      <td>NaN</td>\n      <td>NaN</td>\n      <td>...</td>\n      <td>1.694755</td>\n      <td>1.868611</td>\n      <td>1.469961</td>\n      <td>1.422998</td>\n      <td>1.671657</td>\n      <td>NaN</td>\n      <td>NaN</td>\n      <td>NaN</td>\n      <td>NaN</td>\n      <td>NaN</td>\n    </tr>\n    <tr>\n      <th>9</th>\n      <td>American Samoa</td>\n      <td>ASM</td>\n      <td>CO2 emissions (metric tons per capita)</td>\n      <td>EN.ATM.CO2E.PC</td>\n      <td>NaN</td>\n      <td>NaN</td>\n      <td>NaN</td>\n      <td>NaN</td>\n      <td>NaN</td>\n      <td>NaN</td>\n      <td>...</td>\n      <td>NaN</td>\n      <td>NaN</td>\n      <td>NaN</td>\n      <td>NaN</td>\n      <td>NaN</td>\n      <td>NaN</td>\n      <td>NaN</td>\n      <td>NaN</td>\n      <td>NaN</td>\n      <td>NaN</td>\n    </tr>\n    <tr>\n      <th>10</th>\n      <td>Antigua and Barbuda</td>\n      <td>ATG</td>\n      <td>CO2 emissions (metric tons per capita)</td>\n      <td>EN.ATM.CO2E.PC</td>\n      <td>0.670617</td>\n      <td>0.860441</td>\n      <td>1.823374</td>\n      <td>1.470175</td>\n      <td>1.567094</td>\n      <td>2.520359</td>\n      <td>...</td>\n      <td>5.561525</td>\n      <td>5.628319</td>\n      <td>5.906292</td>\n      <td>6.011269</td>\n      <td>5.823804</td>\n      <td>NaN</td>\n      <td>NaN</td>\n      <td>NaN</td>\n      <td>NaN</td>\n      <td>NaN</td>\n    </tr>\n    <tr>\n      <th>11</th>\n      <td>Australia</td>\n      <td>AUS</td>\n      <td>CO2 emissions (metric tons per capita)</td>\n      <td>EN.ATM.CO2E.PC</td>\n      <td>8.582937</td>\n      <td>8.641569</td>\n      <td>8.835688</td>\n      <td>9.226440</td>\n      <td>9.759073</td>\n      <td>10.622321</td>\n      <td>...</td>\n      <td>17.467002</td>\n      <td>17.704080</td>\n      <td>17.631833</td>\n      <td>16.710904</td>\n      <td>16.519210</td>\n      <td>NaN</td>\n      <td>NaN</td>\n      <td>NaN</td>\n      <td>NaN</td>\n      <td>NaN</td>\n    </tr>\n    <tr>\n      <th>12</th>\n      <td>Austria</td>\n      <td>AUT</td>\n      <td>CO2 emissions (metric tons per capita)</td>\n      <td>EN.ATM.CO2E.PC</td>\n      <td>4.373319</td>\n      <td>4.496362</td>\n      <td>4.755362</td>\n      <td>5.155194</td>\n      <td>5.391004</td>\n      <td>5.252197</td>\n      <td>...</td>\n      <td>8.405093</td>\n      <td>8.262046</td>\n      <td>7.608851</td>\n      <td>8.127693</td>\n      <td>7.769983</td>\n      <td>NaN</td>\n      <td>NaN</td>\n      <td>NaN</td>\n      <td>NaN</td>\n      <td>NaN</td>\n    </tr>\n    <tr>\n      <th>13</th>\n      <td>Azerbaijan</td>\n      <td>AZE</td>\n      <td>CO2 emissions (metric tons per capita)</td>\n      <td>EN.ATM.CO2E.PC</td>\n      <td>NaN</td>\n      <td>NaN</td>\n      <td>NaN</td>\n      <td>NaN</td>\n      <td>NaN</td>\n      <td>NaN</td>\n      <td>...</td>\n      <td>3.555340</td>\n      <td>4.051383</td>\n      <td>3.565668</td>\n      <td>3.388226</td>\n      <td>3.647379</td>\n      <td>NaN</td>\n      <td>NaN</td>\n      <td>NaN</td>\n      <td>NaN</td>\n      <td>NaN</td>\n    </tr>\n    <tr>\n      <th>14</th>\n      <td>Burundi</td>\n      <td>BDI</td>\n      <td>CO2 emissions (metric tons per capita)</td>\n      <td>EN.ATM.CO2E.PC</td>\n      <td>NaN</td>\n      <td>NaN</td>\n      <td>0.015203</td>\n      <td>0.016155</td>\n      <td>0.015827</td>\n      <td>0.011910</td>\n      <td>...</td>\n      <td>0.021964</td>\n      <td>0.021615</td>\n      <td>0.020868</td>\n      <td>0.020542</td>\n      <td>0.021350</td>\n      <td>NaN</td>\n      <td>NaN</td>\n      <td>NaN</td>\n      <td>NaN</td>\n      <td>NaN</td>\n    </tr>\n    <tr>\n      <th>15</th>\n      <td>Belgium</td>\n      <td>BEL</td>\n      <td>CO2 emissions (metric tons per capita)</td>\n      <td>EN.ATM.CO2E.PC</td>\n      <td>9.941594</td>\n      <td>10.103872</td>\n      <td>10.641190</td>\n      <td>11.386929</td>\n      <td>11.053655</td>\n      <td>11.141656</td>\n      <td>...</td>\n      <td>9.713718</td>\n      <td>9.699599</td>\n      <td>9.634776</td>\n      <td>9.989976</td>\n      <td>8.849398</td>\n      <td>NaN</td>\n      <td>NaN</td>\n      <td>NaN</td>\n      <td>NaN</td>\n      <td>NaN</td>\n    </tr>\n    <tr>\n      <th>16</th>\n      <td>Benin</td>\n      <td>BEN</td>\n      <td>CO2 emissions (metric tons per capita)</td>\n      <td>EN.ATM.CO2E.PC</td>\n      <td>0.066354</td>\n      <td>0.052046</td>\n      <td>0.054202</td>\n      <td>0.047580</td>\n      <td>0.055295</td>\n      <td>0.057115</td>\n      <td>...</td>\n      <td>0.516299</td>\n      <td>0.500183</td>\n      <td>0.514278</td>\n      <td>0.541771</td>\n      <td>0.509962</td>\n      <td>NaN</td>\n      <td>NaN</td>\n      <td>NaN</td>\n      <td>NaN</td>\n      <td>NaN</td>\n    </tr>\n    <tr>\n      <th>17</th>\n      <td>Burkina Faso</td>\n      <td>BFA</td>\n      <td>CO2 emissions (metric tons per capita)</td>\n      <td>EN.ATM.CO2E.PC</td>\n      <td>0.009112</td>\n      <td>0.018730</td>\n      <td>0.017003</td>\n      <td>0.017504</td>\n      <td>0.021575</td>\n      <td>0.019841</td>\n      <td>...</td>\n      <td>0.115429</td>\n      <td>0.115427</td>\n      <td>0.109774</td>\n      <td>0.107673</td>\n      <td>0.119981</td>\n      <td>NaN</td>\n      <td>NaN</td>\n      <td>NaN</td>\n      <td>NaN</td>\n      <td>NaN</td>\n    </tr>\n    <tr>\n      <th>18</th>\n      <td>Bangladesh</td>\n      <td>BGD</td>\n      <td>CO2 emissions (metric tons per capita)</td>\n      <td>EN.ATM.CO2E.PC</td>\n      <td>NaN</td>\n      <td>NaN</td>\n      <td>NaN</td>\n      <td>NaN</td>\n      <td>NaN</td>\n      <td>NaN</td>\n      <td>...</td>\n      <td>0.319840</td>\n      <td>0.334440</td>\n      <td>0.352155</td>\n      <td>0.370360</td>\n      <td>0.372017</td>\n      <td>NaN</td>\n      <td>NaN</td>\n      <td>NaN</td>\n      <td>NaN</td>\n      <td>NaN</td>\n    </tr>\n    <tr>\n      <th>19</th>\n      <td>Bulgaria</td>\n      <td>BGR</td>\n      <td>CO2 emissions (metric tons per capita)</td>\n      <td>EN.ATM.CO2E.PC</td>\n      <td>2.833901</td>\n      <td>3.269920</td>\n      <td>3.835892</td>\n      <td>4.259781</td>\n      <td>5.262988</td>\n      <td>5.645652</td>\n      <td>...</td>\n      <td>6.916687</td>\n      <td>6.778939</td>\n      <td>5.729716</td>\n      <td>5.966884</td>\n      <td>6.714383</td>\n      <td>NaN</td>\n      <td>NaN</td>\n      <td>NaN</td>\n      <td>NaN</td>\n      <td>NaN</td>\n    </tr>\n    <tr>\n      <th>20</th>\n      <td>Bahrain</td>\n      <td>BHR</td>\n      <td>CO2 emissions (metric tons per capita)</td>\n      <td>EN.ATM.CO2E.PC</td>\n      <td>3.542864</td>\n      <td>10.547396</td>\n      <td>9.193609</td>\n      <td>6.714156</td>\n      <td>8.747480</td>\n      <td>6.557022</td>\n      <td>...</td>\n      <td>21.443296</td>\n      <td>21.519995</td>\n      <td>18.136234</td>\n      <td>18.435025</td>\n      <td>17.947330</td>\n      <td>NaN</td>\n      <td>NaN</td>\n      <td>NaN</td>\n      <td>NaN</td>\n      <td>NaN</td>\n    </tr>\n    <tr>\n      <th>21</th>\n      <td>Bahamas, The</td>\n      <td>BHS</td>\n      <td>CO2 emissions (metric tons per capita)</td>\n      <td>EN.ATM.CO2E.PC</td>\n      <td>3.749831</td>\n      <td>4.746699</td>\n      <td>5.996432</td>\n      <td>5.558199</td>\n      <td>8.118597</td>\n      <td>9.399946</td>\n      <td>...</td>\n      <td>4.521354</td>\n      <td>2.998089</td>\n      <td>4.630520</td>\n      <td>6.829321</td>\n      <td>5.199844</td>\n      <td>NaN</td>\n      <td>NaN</td>\n      <td>NaN</td>\n      <td>NaN</td>\n      <td>NaN</td>\n    </tr>\n    <tr>\n      <th>22</th>\n      <td>Bosnia and Herzegovina</td>\n      <td>BIH</td>\n      <td>CO2 emissions (metric tons per capita)</td>\n      <td>EN.ATM.CO2E.PC</td>\n      <td>NaN</td>\n      <td>NaN</td>\n      <td>NaN</td>\n      <td>NaN</td>\n      <td>NaN</td>\n      <td>NaN</td>\n      <td>...</td>\n      <td>4.580387</td>\n      <td>5.231547</td>\n      <td>5.371890</td>\n      <td>5.513994</td>\n      <td>6.196652</td>\n      <td>NaN</td>\n      <td>NaN</td>\n      <td>NaN</td>\n      <td>NaN</td>\n      <td>NaN</td>\n    </tr>\n    <tr>\n      <th>23</th>\n      <td>Belarus</td>\n      <td>BLR</td>\n      <td>CO2 emissions (metric tons per capita)</td>\n      <td>EN.ATM.CO2E.PC</td>\n      <td>NaN</td>\n      <td>NaN</td>\n      <td>NaN</td>\n      <td>NaN</td>\n      <td>NaN</td>\n      <td>NaN</td>\n      <td>...</td>\n      <td>6.305629</td>\n      <td>6.592749</td>\n      <td>6.341939</td>\n      <td>6.556550</td>\n      <td>6.682510</td>\n      <td>NaN</td>\n      <td>NaN</td>\n      <td>NaN</td>\n      <td>NaN</td>\n      <td>NaN</td>\n    </tr>\n    <tr>\n      <th>24</th>\n      <td>Belize</td>\n      <td>BLZ</td>\n      <td>CO2 emissions (metric tons per capita)</td>\n      <td>EN.ATM.CO2E.PC</td>\n      <td>0.477951</td>\n      <td>0.387219</td>\n      <td>0.715409</td>\n      <td>0.622357</td>\n      <td>0.818289</td>\n      <td>0.794763</td>\n      <td>...</td>\n      <td>1.536094</td>\n      <td>1.473196</td>\n      <td>1.495185</td>\n      <td>1.721709</td>\n      <td>1.670904</td>\n      <td>NaN</td>\n      <td>NaN</td>\n      <td>NaN</td>\n      <td>NaN</td>\n      <td>NaN</td>\n    </tr>\n    <tr>\n      <th>25</th>\n      <td>Bermuda</td>\n      <td>BMU</td>\n      <td>CO2 emissions (metric tons per capita)</td>\n      <td>EN.ATM.CO2E.PC</td>\n      <td>3.551374</td>\n      <td>3.868484</td>\n      <td>3.383712</td>\n      <td>3.151929</td>\n      <td>4.124438</td>\n      <td>3.586487</td>\n      <td>...</td>\n      <td>7.968299</td>\n      <td>5.955020</td>\n      <td>7.095329</td>\n      <td>7.320036</td>\n      <td>6.077210</td>\n      <td>NaN</td>\n      <td>NaN</td>\n      <td>NaN</td>\n      <td>NaN</td>\n      <td>NaN</td>\n    </tr>\n    <tr>\n      <th>26</th>\n      <td>Bolivia</td>\n      <td>BOL</td>\n      <td>CO2 emissions (metric tons per capita)</td>\n      <td>EN.ATM.CO2E.PC</td>\n      <td>0.272038</td>\n      <td>0.276621</td>\n      <td>0.286626</td>\n      <td>0.310159</td>\n      <td>0.371216</td>\n      <td>0.371151</td>\n      <td>...</td>\n      <td>1.318204</td>\n      <td>1.412189</td>\n      <td>1.459841</td>\n      <td>1.547659</td>\n      <td>1.599499</td>\n      <td>NaN</td>\n      <td>NaN</td>\n      <td>NaN</td>\n      <td>NaN</td>\n      <td>NaN</td>\n    </tr>\n    <tr>\n      <th>27</th>\n      <td>Brazil</td>\n      <td>BRA</td>\n      <td>CO2 emissions (metric tons per capita)</td>\n      <td>EN.ATM.CO2E.PC</td>\n      <td>0.647068</td>\n      <td>0.658625</td>\n      <td>0.697281</td>\n      <td>0.700749</td>\n      <td>0.694001</td>\n      <td>0.670372</td>\n      <td>...</td>\n      <td>1.884034</td>\n      <td>1.990429</td>\n      <td>1.866522</td>\n      <td>2.113415</td>\n      <td>2.191394</td>\n      <td>NaN</td>\n      <td>NaN</td>\n      <td>NaN</td>\n      <td>NaN</td>\n      <td>NaN</td>\n    </tr>\n    <tr>\n      <th>28</th>\n      <td>Barbados</td>\n      <td>BRB</td>\n      <td>CO2 emissions (metric tons per capita)</td>\n      <td>EN.ATM.CO2E.PC</td>\n      <td>0.746313</td>\n      <td>0.838899</td>\n      <td>1.119411</td>\n      <td>0.816330</td>\n      <td>0.766085</td>\n      <td>0.872454</td>\n      <td>...</td>\n      <td>5.178741</td>\n      <td>5.871114</td>\n      <td>5.833678</td>\n      <td>5.430338</td>\n      <td>5.580178</td>\n      <td>NaN</td>\n      <td>NaN</td>\n      <td>NaN</td>\n      <td>NaN</td>\n      <td>NaN</td>\n    </tr>\n    <tr>\n      <th>29</th>\n      <td>Brunei Darussalam</td>\n      <td>BRN</td>\n      <td>CO2 emissions (metric tons per capita)</td>\n      <td>EN.ATM.CO2E.PC</td>\n      <td>4.078179</td>\n      <td>3.552009</td>\n      <td>4.133422</td>\n      <td>3.798174</td>\n      <td>3.482289</td>\n      <td>3.254787</td>\n      <td>...</td>\n      <td>24.178409</td>\n      <td>26.338271</td>\n      <td>22.149029</td>\n      <td>21.873222</td>\n      <td>24.392013</td>\n      <td>NaN</td>\n      <td>NaN</td>\n      <td>NaN</td>\n      <td>NaN</td>\n      <td>NaN</td>\n    </tr>\n    <tr>\n      <th>...</th>\n      <td>...</td>\n      <td>...</td>\n      <td>...</td>\n      <td>...</td>\n      <td>...</td>\n      <td>...</td>\n      <td>...</td>\n      <td>...</td>\n      <td>...</td>\n      <td>...</td>\n      <td>...</td>\n      <td>...</td>\n      <td>...</td>\n      <td>...</td>\n      <td>...</td>\n      <td>...</td>\n      <td>...</td>\n      <td>...</td>\n      <td>...</td>\n      <td>...</td>\n      <td>...</td>\n    </tr>\n    <tr>\n      <th>219</th>\n      <td>Thailand</td>\n      <td>THA</td>\n      <td>CO2 emissions (metric tons per capita)</td>\n      <td>EN.ATM.CO2E.PC</td>\n      <td>0.135586</td>\n      <td>0.146944</td>\n      <td>0.173130</td>\n      <td>0.185877</td>\n      <td>0.242240</td>\n      <td>0.234151</td>\n      <td>...</td>\n      <td>3.994687</td>\n      <td>3.984060</td>\n      <td>4.198512</td>\n      <td>4.470426</td>\n      <td>4.534492</td>\n      <td>NaN</td>\n      <td>NaN</td>\n      <td>NaN</td>\n      <td>NaN</td>\n      <td>NaN</td>\n    </tr>\n    <tr>\n      <th>220</th>\n      <td>Tajikistan</td>\n      <td>TJK</td>\n      <td>CO2 emissions (metric tons per capita)</td>\n      <td>EN.ATM.CO2E.PC</td>\n      <td>NaN</td>\n      <td>NaN</td>\n      <td>NaN</td>\n      <td>NaN</td>\n      <td>NaN</td>\n      <td>NaN</td>\n      <td>...</td>\n      <td>0.463345</td>\n      <td>0.409462</td>\n      <td>0.382775</td>\n      <td>0.373873</td>\n      <td>0.358948</td>\n      <td>NaN</td>\n      <td>NaN</td>\n      <td>NaN</td>\n      <td>NaN</td>\n      <td>NaN</td>\n    </tr>\n    <tr>\n      <th>221</th>\n      <td>Turkmenistan</td>\n      <td>TKM</td>\n      <td>CO2 emissions (metric tons per capita)</td>\n      <td>EN.ATM.CO2E.PC</td>\n      <td>NaN</td>\n      <td>NaN</td>\n      <td>NaN</td>\n      <td>NaN</td>\n      <td>NaN</td>\n      <td>NaN</td>\n      <td>...</td>\n      <td>11.535622</td>\n      <td>11.557572</td>\n      <td>10.110661</td>\n      <td>11.358111</td>\n      <td>12.183667</td>\n      <td>NaN</td>\n      <td>NaN</td>\n      <td>NaN</td>\n      <td>NaN</td>\n      <td>NaN</td>\n    </tr>\n    <tr>\n      <th>222</th>\n      <td>Timor-Leste</td>\n      <td>TLS</td>\n      <td>CO2 emissions (metric tons per capita)</td>\n      <td>EN.ATM.CO2E.PC</td>\n      <td>NaN</td>\n      <td>NaN</td>\n      <td>NaN</td>\n      <td>NaN</td>\n      <td>NaN</td>\n      <td>NaN</td>\n      <td>...</td>\n      <td>0.180962</td>\n      <td>0.185017</td>\n      <td>0.174891</td>\n      <td>0.171932</td>\n      <td>0.163648</td>\n      <td>NaN</td>\n      <td>NaN</td>\n      <td>NaN</td>\n      <td>NaN</td>\n      <td>NaN</td>\n    </tr>\n    <tr>\n      <th>223</th>\n      <td>Tonga</td>\n      <td>TON</td>\n      <td>CO2 emissions (metric tons per capita)</td>\n      <td>EN.ATM.CO2E.PC</td>\n      <td>0.178588</td>\n      <td>0.172592</td>\n      <td>0.166040</td>\n      <td>0.159435</td>\n      <td>0.153309</td>\n      <td>0.147936</td>\n      <td>...</td>\n      <td>1.112637</td>\n      <td>1.176967</td>\n      <td>1.276514</td>\n      <td>1.128883</td>\n      <td>0.983562</td>\n      <td>NaN</td>\n      <td>NaN</td>\n      <td>NaN</td>\n      <td>NaN</td>\n      <td>NaN</td>\n    </tr>\n    <tr>\n      <th>224</th>\n      <td>Trinidad and Tobago</td>\n      <td>TTO</td>\n      <td>CO2 emissions (metric tons per capita)</td>\n      <td>EN.ATM.CO2E.PC</td>\n      <td>3.042576</td>\n      <td>5.318141</td>\n      <td>8.225570</td>\n      <td>1.466683</td>\n      <td>4.201774</td>\n      <td>5.694904</td>\n      <td>...</td>\n      <td>36.816763</td>\n      <td>35.455298</td>\n      <td>36.569448</td>\n      <td>38.337841</td>\n      <td>37.140054</td>\n      <td>NaN</td>\n      <td>NaN</td>\n      <td>NaN</td>\n      <td>NaN</td>\n      <td>NaN</td>\n    </tr>\n    <tr>\n      <th>225</th>\n      <td>Tunisia</td>\n      <td>TUN</td>\n      <td>CO2 emissions (metric tons per capita)</td>\n      <td>EN.ATM.CO2E.PC</td>\n      <td>0.409211</td>\n      <td>0.413220</td>\n      <td>0.412987</td>\n      <td>0.438885</td>\n      <td>0.608626</td>\n      <td>0.532230</td>\n      <td>...</td>\n      <td>2.357974</td>\n      <td>2.403508</td>\n      <td>2.374157</td>\n      <td>2.535619</td>\n      <td>2.402456</td>\n      <td>NaN</td>\n      <td>NaN</td>\n      <td>NaN</td>\n      <td>NaN</td>\n      <td>NaN</td>\n    </tr>\n    <tr>\n      <th>226</th>\n      <td>Turkey</td>\n      <td>TUR</td>\n      <td>CO2 emissions (metric tons per capita)</td>\n      <td>EN.ATM.CO2E.PC</td>\n      <td>0.610473</td>\n      <td>0.615079</td>\n      <td>0.748241</td>\n      <td>0.765934</td>\n      <td>0.869390</td>\n      <td>0.883506</td>\n      <td>...</td>\n      <td>4.094889</td>\n      <td>4.055397</td>\n      <td>3.898959</td>\n      <td>4.121155</td>\n      <td>4.383105</td>\n      <td>NaN</td>\n      <td>NaN</td>\n      <td>NaN</td>\n      <td>NaN</td>\n      <td>NaN</td>\n    </tr>\n    <tr>\n      <th>227</th>\n      <td>Tuvalu</td>\n      <td>TUV</td>\n      <td>CO2 emissions (metric tons per capita)</td>\n      <td>EN.ATM.CO2E.PC</td>\n      <td>NaN</td>\n      <td>NaN</td>\n      <td>NaN</td>\n      <td>NaN</td>\n      <td>NaN</td>\n      <td>NaN</td>\n      <td>...</td>\n      <td>NaN</td>\n      <td>NaN</td>\n      <td>NaN</td>\n      <td>NaN</td>\n      <td>NaN</td>\n      <td>NaN</td>\n      <td>NaN</td>\n      <td>NaN</td>\n      <td>NaN</td>\n      <td>NaN</td>\n    </tr>\n    <tr>\n      <th>228</th>\n      <td>Taiwan, China</td>\n      <td>TWN</td>\n      <td>CO2 emissions (metric tons per capita)</td>\n      <td>EN.ATM.CO2E.PC</td>\n      <td>NaN</td>\n      <td>NaN</td>\n      <td>NaN</td>\n      <td>NaN</td>\n      <td>NaN</td>\n      <td>NaN</td>\n      <td>...</td>\n      <td>NaN</td>\n      <td>NaN</td>\n      <td>NaN</td>\n      <td>NaN</td>\n      <td>NaN</td>\n      <td>NaN</td>\n      <td>NaN</td>\n      <td>NaN</td>\n      <td>NaN</td>\n      <td>NaN</td>\n    </tr>\n    <tr>\n      <th>229</th>\n      <td>Tanzania</td>\n      <td>TZA</td>\n      <td>CO2 emissions (metric tons per capita)</td>\n      <td>EN.ATM.CO2E.PC</td>\n      <td>0.082261</td>\n      <td>0.067872</td>\n      <td>0.071734</td>\n      <td>0.072968</td>\n      <td>0.091197</td>\n      <td>0.099494</td>\n      <td>...</td>\n      <td>0.144041</td>\n      <td>0.147982</td>\n      <td>0.139973</td>\n      <td>0.150059</td>\n      <td>0.154935</td>\n      <td>NaN</td>\n      <td>NaN</td>\n      <td>NaN</td>\n      <td>NaN</td>\n      <td>NaN</td>\n    </tr>\n    <tr>\n      <th>230</th>\n      <td>Uganda</td>\n      <td>UGA</td>\n      <td>CO2 emissions (metric tons per capita)</td>\n      <td>EN.ATM.CO2E.PC</td>\n      <td>0.062123</td>\n      <td>0.058093</td>\n      <td>0.059258</td>\n      <td>0.057791</td>\n      <td>0.063435</td>\n      <td>0.078242</td>\n      <td>...</td>\n      <td>0.104293</td>\n      <td>0.101919</td>\n      <td>0.105320</td>\n      <td>0.108297</td>\n      <td>0.110887</td>\n      <td>NaN</td>\n      <td>NaN</td>\n      <td>NaN</td>\n      <td>NaN</td>\n      <td>NaN</td>\n    </tr>\n    <tr>\n      <th>231</th>\n      <td>Ukraine</td>\n      <td>UKR</td>\n      <td>CO2 emissions (metric tons per capita)</td>\n      <td>EN.ATM.CO2E.PC</td>\n      <td>NaN</td>\n      <td>NaN</td>\n      <td>NaN</td>\n      <td>NaN</td>\n      <td>NaN</td>\n      <td>NaN</td>\n      <td>...</td>\n      <td>6.910708</td>\n      <td>6.724046</td>\n      <td>5.647014</td>\n      <td>6.638152</td>\n      <td>6.262352</td>\n      <td>NaN</td>\n      <td>NaN</td>\n      <td>NaN</td>\n      <td>NaN</td>\n      <td>NaN</td>\n    </tr>\n    <tr>\n      <th>232</th>\n      <td>Upper middle income</td>\n      <td>UMC</td>\n      <td>CO2 emissions (metric tons per capita)</td>\n      <td>EN.ATM.CO2E.PC</td>\n      <td>1.288256</td>\n      <td>1.057435</td>\n      <td>0.957318</td>\n      <td>0.955719</td>\n      <td>0.982914</td>\n      <td>1.036033</td>\n      <td>...</td>\n      <td>4.689606</td>\n      <td>4.838241</td>\n      <td>5.074839</td>\n      <td>5.359268</td>\n      <td>5.710659</td>\n      <td>NaN</td>\n      <td>NaN</td>\n      <td>NaN</td>\n      <td>NaN</td>\n      <td>NaN</td>\n    </tr>\n    <tr>\n      <th>233</th>\n      <td>Uruguay</td>\n      <td>URY</td>\n      <td>CO2 emissions (metric tons per capita)</td>\n      <td>EN.ATM.CO2E.PC</td>\n      <td>1.701583</td>\n      <td>1.602723</td>\n      <td>1.540657</td>\n      <td>1.639285</td>\n      <td>1.710101</td>\n      <td>2.049519</td>\n      <td>...</td>\n      <td>1.796306</td>\n      <td>2.471054</td>\n      <td>2.401221</td>\n      <td>1.912605</td>\n      <td>2.296201</td>\n      <td>NaN</td>\n      <td>NaN</td>\n      <td>NaN</td>\n      <td>NaN</td>\n      <td>NaN</td>\n    </tr>\n    <tr>\n      <th>234</th>\n      <td>United States</td>\n      <td>USA</td>\n      <td>CO2 emissions (metric tons per capita)</td>\n      <td>EN.ATM.CO2E.PC</td>\n      <td>15.999779</td>\n      <td>15.681256</td>\n      <td>16.013937</td>\n      <td>16.482762</td>\n      <td>16.968119</td>\n      <td>17.451725</td>\n      <td>...</td>\n      <td>19.237460</td>\n      <td>18.489234</td>\n      <td>17.192379</td>\n      <td>17.484792</td>\n      <td>17.020216</td>\n      <td>NaN</td>\n      <td>NaN</td>\n      <td>NaN</td>\n      <td>NaN</td>\n      <td>NaN</td>\n    </tr>\n    <tr>\n      <th>235</th>\n      <td>Uzbekistan</td>\n      <td>UZB</td>\n      <td>CO2 emissions (metric tons per capita)</td>\n      <td>EN.ATM.CO2E.PC</td>\n      <td>NaN</td>\n      <td>NaN</td>\n      <td>NaN</td>\n      <td>NaN</td>\n      <td>NaN</td>\n      <td>NaN</td>\n      <td>...</td>\n      <td>4.391447</td>\n      <td>4.434466</td>\n      <td>3.912053</td>\n      <td>3.693268</td>\n      <td>3.914921</td>\n      <td>NaN</td>\n      <td>NaN</td>\n      <td>NaN</td>\n      <td>NaN</td>\n      <td>NaN</td>\n    </tr>\n    <tr>\n      <th>236</th>\n      <td>St. Vincent and the Grenadines</td>\n      <td>VCT</td>\n      <td>CO2 emissions (metric tons per capita)</td>\n      <td>EN.ATM.CO2E.PC</td>\n      <td>0.135902</td>\n      <td>0.133923</td>\n      <td>0.132214</td>\n      <td>0.174273</td>\n      <td>0.215513</td>\n      <td>0.170614</td>\n      <td>...</td>\n      <td>2.084879</td>\n      <td>2.116255</td>\n      <td>2.114512</td>\n      <td>2.146877</td>\n      <td>2.179923</td>\n      <td>NaN</td>\n      <td>NaN</td>\n      <td>NaN</td>\n      <td>NaN</td>\n      <td>NaN</td>\n    </tr>\n    <tr>\n      <th>237</th>\n      <td>Venezuela, RB</td>\n      <td>VEN</td>\n      <td>CO2 emissions (metric tons per capita)</td>\n      <td>EN.ATM.CO2E.PC</td>\n      <td>7.005107</td>\n      <td>6.136886</td>\n      <td>6.155057</td>\n      <td>6.155748</td>\n      <td>5.973226</td>\n      <td>6.187252</td>\n      <td>...</td>\n      <td>5.868518</td>\n      <td>6.604892</td>\n      <td>6.525293</td>\n      <td>6.811756</td>\n      <td>6.416334</td>\n      <td>NaN</td>\n      <td>NaN</td>\n      <td>NaN</td>\n      <td>NaN</td>\n      <td>NaN</td>\n    </tr>\n    <tr>\n      <th>238</th>\n      <td>Virgin Islands (U.S.)</td>\n      <td>VIR</td>\n      <td>CO2 emissions (metric tons per capita)</td>\n      <td>EN.ATM.CO2E.PC</td>\n      <td>NaN</td>\n      <td>NaN</td>\n      <td>NaN</td>\n      <td>NaN</td>\n      <td>NaN</td>\n      <td>NaN</td>\n      <td>...</td>\n      <td>NaN</td>\n      <td>NaN</td>\n      <td>NaN</td>\n      <td>NaN</td>\n      <td>NaN</td>\n      <td>NaN</td>\n      <td>NaN</td>\n      <td>NaN</td>\n      <td>NaN</td>\n      <td>NaN</td>\n    </tr>\n    <tr>\n      <th>239</th>\n      <td>Vietnam</td>\n      <td>VNM</td>\n      <td>CO2 emissions (metric tons per capita)</td>\n      <td>EN.ATM.CO2E.PC</td>\n      <td>0.215631</td>\n      <td>0.225435</td>\n      <td>0.258760</td>\n      <td>0.247579</td>\n      <td>0.314058</td>\n      <td>0.343354</td>\n      <td>...</td>\n      <td>1.352791</td>\n      <td>1.497496</td>\n      <td>1.636371</td>\n      <td>1.761695</td>\n      <td>1.971889</td>\n      <td>NaN</td>\n      <td>NaN</td>\n      <td>NaN</td>\n      <td>NaN</td>\n      <td>NaN</td>\n    </tr>\n    <tr>\n      <th>240</th>\n      <td>Vanuatu</td>\n      <td>VUT</td>\n      <td>CO2 emissions (metric tons per capita)</td>\n      <td>EN.ATM.CO2E.PC</td>\n      <td>NaN</td>\n      <td>NaN</td>\n      <td>0.594888</td>\n      <td>0.471728</td>\n      <td>0.864247</td>\n      <td>0.641714</td>\n      <td>...</td>\n      <td>0.433459</td>\n      <td>0.406839</td>\n      <td>0.508463</td>\n      <td>0.496591</td>\n      <td>0.591266</td>\n      <td>NaN</td>\n      <td>NaN</td>\n      <td>NaN</td>\n      <td>NaN</td>\n      <td>NaN</td>\n    </tr>\n    <tr>\n      <th>241</th>\n      <td>West Bank and Gaza</td>\n      <td>PSE</td>\n      <td>CO2 emissions (metric tons per capita)</td>\n      <td>EN.ATM.CO2E.PC</td>\n      <td>NaN</td>\n      <td>NaN</td>\n      <td>NaN</td>\n      <td>NaN</td>\n      <td>NaN</td>\n      <td>NaN</td>\n      <td>...</td>\n      <td>0.665297</td>\n      <td>0.570947</td>\n      <td>0.564578</td>\n      <td>0.534015</td>\n      <td>0.572407</td>\n      <td>NaN</td>\n      <td>NaN</td>\n      <td>NaN</td>\n      <td>NaN</td>\n      <td>NaN</td>\n    </tr>\n    <tr>\n      <th>242</th>\n      <td>World</td>\n      <td>WLD</td>\n      <td>CO2 emissions (metric tons per capita)</td>\n      <td>EN.ATM.CO2E.PC</td>\n      <td>3.096144</td>\n      <td>3.067062</td>\n      <td>3.138020</td>\n      <td>3.242364</td>\n      <td>3.358696</td>\n      <td>3.437595</td>\n      <td>...</td>\n      <td>4.686122</td>\n      <td>4.741826</td>\n      <td>4.663120</td>\n      <td>4.840436</td>\n      <td>4.944676</td>\n      <td>NaN</td>\n      <td>NaN</td>\n      <td>NaN</td>\n      <td>NaN</td>\n      <td>NaN</td>\n    </tr>\n    <tr>\n      <th>243</th>\n      <td>Samoa</td>\n      <td>WSM</td>\n      <td>CO2 emissions (metric tons per capita)</td>\n      <td>EN.ATM.CO2E.PC</td>\n      <td>0.135009</td>\n      <td>0.163529</td>\n      <td>0.158352</td>\n      <td>0.184019</td>\n      <td>0.208092</td>\n      <td>0.230869</td>\n      <td>...</td>\n      <td>1.026224</td>\n      <td>1.039490</td>\n      <td>1.072106</td>\n      <td>1.103871</td>\n      <td>1.252110</td>\n      <td>NaN</td>\n      <td>NaN</td>\n      <td>NaN</td>\n      <td>NaN</td>\n      <td>NaN</td>\n    </tr>\n    <tr>\n      <th>244</th>\n      <td>Yemen, Rep.</td>\n      <td>YEM</td>\n      <td>CO2 emissions (metric tons per capita)</td>\n      <td>EN.ATM.CO2E.PC</td>\n      <td>0.703403</td>\n      <td>0.507631</td>\n      <td>0.728004</td>\n      <td>0.537606</td>\n      <td>0.658012</td>\n      <td>0.699574</td>\n      <td>...</td>\n      <td>0.981422</td>\n      <td>0.989905</td>\n      <td>1.026251</td>\n      <td>1.090060</td>\n      <td>0.919968</td>\n      <td>NaN</td>\n      <td>NaN</td>\n      <td>NaN</td>\n      <td>NaN</td>\n      <td>NaN</td>\n    </tr>\n    <tr>\n      <th>245</th>\n      <td>South Africa</td>\n      <td>ZAF</td>\n      <td>CO2 emissions (metric tons per capita)</td>\n      <td>EN.ATM.CO2E.PC</td>\n      <td>5.629718</td>\n      <td>5.694383</td>\n      <td>5.729712</td>\n      <td>5.799844</td>\n      <td>6.170936</td>\n      <td>6.467359</td>\n      <td>...</td>\n      <td>9.063326</td>\n      <td>9.506481</td>\n      <td>9.545495</td>\n      <td>8.957154</td>\n      <td>9.257216</td>\n      <td>NaN</td>\n      <td>NaN</td>\n      <td>NaN</td>\n      <td>NaN</td>\n      <td>NaN</td>\n    </tr>\n    <tr>\n      <th>246</th>\n      <td>Congo, Dem. Rep.</td>\n      <td>COD</td>\n      <td>CO2 emissions (metric tons per capita)</td>\n      <td>EN.ATM.CO2E.PC</td>\n      <td>0.152228</td>\n      <td>0.150782</td>\n      <td>0.135559</td>\n      <td>0.139446</td>\n      <td>0.116926</td>\n      <td>0.142290</td>\n      <td>...</td>\n      <td>0.047312</td>\n      <td>0.048411</td>\n      <td>0.045604</td>\n      <td>0.049328</td>\n      <td>0.050303</td>\n      <td>NaN</td>\n      <td>NaN</td>\n      <td>NaN</td>\n      <td>NaN</td>\n      <td>NaN</td>\n    </tr>\n    <tr>\n      <th>247</th>\n      <td>Zambia</td>\n      <td>ZMB</td>\n      <td>CO2 emissions (metric tons per capita)</td>\n      <td>EN.ATM.CO2E.PC</td>\n      <td>NaN</td>\n      <td>NaN</td>\n      <td>NaN</td>\n      <td>NaN</td>\n      <td>0.950434</td>\n      <td>1.100197</td>\n      <td>...</td>\n      <td>0.150265</td>\n      <td>0.164692</td>\n      <td>0.184058</td>\n      <td>0.192079</td>\n      <td>0.212450</td>\n      <td>NaN</td>\n      <td>NaN</td>\n      <td>NaN</td>\n      <td>NaN</td>\n      <td>NaN</td>\n    </tr>\n    <tr>\n      <th>248</th>\n      <td>Zimbabwe</td>\n      <td>ZWE</td>\n      <td>CO2 emissions (metric tons per capita)</td>\n      <td>EN.ATM.CO2E.PC</td>\n      <td>NaN</td>\n      <td>NaN</td>\n      <td>NaN</td>\n      <td>NaN</td>\n      <td>1.045374</td>\n      <td>1.179176</td>\n      <td>...</td>\n      <td>0.731867</td>\n      <td>0.569255</td>\n      <td>0.600521</td>\n      <td>0.646073</td>\n      <td>0.691698</td>\n      <td>NaN</td>\n      <td>NaN</td>\n      <td>NaN</td>\n      <td>NaN</td>\n      <td>NaN</td>\n    </tr>\n  </tbody>\n</table>\n<p>249 rows \u00d7 61 columns</p>\n</div>", 
                        "text/plain": "                       Country Name Country Code  \\\n0                             Aruba          ABW   \n1                           Andorra          AND   \n2                       Afghanistan          AFG   \n3                            Angola          AGO   \n4                           Albania          ALB   \n5                        Arab World          ARB   \n6              United Arab Emirates          ARE   \n7                         Argentina          ARG   \n8                           Armenia          ARM   \n9                    American Samoa          ASM   \n10              Antigua and Barbuda          ATG   \n11                        Australia          AUS   \n12                          Austria          AUT   \n13                       Azerbaijan          AZE   \n14                          Burundi          BDI   \n15                          Belgium          BEL   \n16                            Benin          BEN   \n17                     Burkina Faso          BFA   \n18                       Bangladesh          BGD   \n19                         Bulgaria          BGR   \n20                          Bahrain          BHR   \n21                     Bahamas, The          BHS   \n22           Bosnia and Herzegovina          BIH   \n23                          Belarus          BLR   \n24                           Belize          BLZ   \n25                          Bermuda          BMU   \n26                          Bolivia          BOL   \n27                           Brazil          BRA   \n28                         Barbados          BRB   \n29                Brunei Darussalam          BRN   \n..                              ...          ...   \n219                        Thailand          THA   \n220                      Tajikistan          TJK   \n221                    Turkmenistan          TKM   \n222                     Timor-Leste          TLS   \n223                           Tonga          TON   \n224             Trinidad and Tobago          TTO   \n225                         Tunisia          TUN   \n226                          Turkey          TUR   \n227                          Tuvalu          TUV   \n228                   Taiwan, China          TWN   \n229                        Tanzania          TZA   \n230                          Uganda          UGA   \n231                         Ukraine          UKR   \n232             Upper middle income          UMC   \n233                         Uruguay          URY   \n234                   United States          USA   \n235                      Uzbekistan          UZB   \n236  St. Vincent and the Grenadines          VCT   \n237                   Venezuela, RB          VEN   \n238           Virgin Islands (U.S.)          VIR   \n239                         Vietnam          VNM   \n240                         Vanuatu          VUT   \n241              West Bank and Gaza          PSE   \n242                           World          WLD   \n243                           Samoa          WSM   \n244                     Yemen, Rep.          YEM   \n245                    South Africa          ZAF   \n246                Congo, Dem. Rep.          COD   \n247                          Zambia          ZMB   \n248                        Zimbabwe          ZWE   \n\n                             Indicator Name  Indicator Code       1960  \\\n0    CO2 emissions (metric tons per capita)  EN.ATM.CO2E.PC        NaN   \n1    CO2 emissions (metric tons per capita)  EN.ATM.CO2E.PC        NaN   \n2    CO2 emissions (metric tons per capita)  EN.ATM.CO2E.PC   0.046068   \n3    CO2 emissions (metric tons per capita)  EN.ATM.CO2E.PC   0.104357   \n4    CO2 emissions (metric tons per capita)  EN.ATM.CO2E.PC   1.258195   \n5    CO2 emissions (metric tons per capita)  EN.ATM.CO2E.PC   0.643964   \n6    CO2 emissions (metric tons per capita)  EN.ATM.CO2E.PC   0.118786   \n7    CO2 emissions (metric tons per capita)  EN.ATM.CO2E.PC   2.367473   \n8    CO2 emissions (metric tons per capita)  EN.ATM.CO2E.PC        NaN   \n9    CO2 emissions (metric tons per capita)  EN.ATM.CO2E.PC        NaN   \n10   CO2 emissions (metric tons per capita)  EN.ATM.CO2E.PC   0.670617   \n11   CO2 emissions (metric tons per capita)  EN.ATM.CO2E.PC   8.582937   \n12   CO2 emissions (metric tons per capita)  EN.ATM.CO2E.PC   4.373319   \n13   CO2 emissions (metric tons per capita)  EN.ATM.CO2E.PC        NaN   \n14   CO2 emissions (metric tons per capita)  EN.ATM.CO2E.PC        NaN   \n15   CO2 emissions (metric tons per capita)  EN.ATM.CO2E.PC   9.941594   \n16   CO2 emissions (metric tons per capita)  EN.ATM.CO2E.PC   0.066354   \n17   CO2 emissions (metric tons per capita)  EN.ATM.CO2E.PC   0.009112   \n18   CO2 emissions (metric tons per capita)  EN.ATM.CO2E.PC        NaN   \n19   CO2 emissions (metric tons per capita)  EN.ATM.CO2E.PC   2.833901   \n20   CO2 emissions (metric tons per capita)  EN.ATM.CO2E.PC   3.542864   \n21   CO2 emissions (metric tons per capita)  EN.ATM.CO2E.PC   3.749831   \n22   CO2 emissions (metric tons per capita)  EN.ATM.CO2E.PC        NaN   \n23   CO2 emissions (metric tons per capita)  EN.ATM.CO2E.PC        NaN   \n24   CO2 emissions (metric tons per capita)  EN.ATM.CO2E.PC   0.477951   \n25   CO2 emissions (metric tons per capita)  EN.ATM.CO2E.PC   3.551374   \n26   CO2 emissions (metric tons per capita)  EN.ATM.CO2E.PC   0.272038   \n27   CO2 emissions (metric tons per capita)  EN.ATM.CO2E.PC   0.647068   \n28   CO2 emissions (metric tons per capita)  EN.ATM.CO2E.PC   0.746313   \n29   CO2 emissions (metric tons per capita)  EN.ATM.CO2E.PC   4.078179   \n..                                      ...             ...        ...   \n219  CO2 emissions (metric tons per capita)  EN.ATM.CO2E.PC   0.135586   \n220  CO2 emissions (metric tons per capita)  EN.ATM.CO2E.PC        NaN   \n221  CO2 emissions (metric tons per capita)  EN.ATM.CO2E.PC        NaN   \n222  CO2 emissions (metric tons per capita)  EN.ATM.CO2E.PC        NaN   \n223  CO2 emissions (metric tons per capita)  EN.ATM.CO2E.PC   0.178588   \n224  CO2 emissions (metric tons per capita)  EN.ATM.CO2E.PC   3.042576   \n225  CO2 emissions (metric tons per capita)  EN.ATM.CO2E.PC   0.409211   \n226  CO2 emissions (metric tons per capita)  EN.ATM.CO2E.PC   0.610473   \n227  CO2 emissions (metric tons per capita)  EN.ATM.CO2E.PC        NaN   \n228  CO2 emissions (metric tons per capita)  EN.ATM.CO2E.PC        NaN   \n229  CO2 emissions (metric tons per capita)  EN.ATM.CO2E.PC   0.082261   \n230  CO2 emissions (metric tons per capita)  EN.ATM.CO2E.PC   0.062123   \n231  CO2 emissions (metric tons per capita)  EN.ATM.CO2E.PC        NaN   \n232  CO2 emissions (metric tons per capita)  EN.ATM.CO2E.PC   1.288256   \n233  CO2 emissions (metric tons per capita)  EN.ATM.CO2E.PC   1.701583   \n234  CO2 emissions (metric tons per capita)  EN.ATM.CO2E.PC  15.999779   \n235  CO2 emissions (metric tons per capita)  EN.ATM.CO2E.PC        NaN   \n236  CO2 emissions (metric tons per capita)  EN.ATM.CO2E.PC   0.135902   \n237  CO2 emissions (metric tons per capita)  EN.ATM.CO2E.PC   7.005107   \n238  CO2 emissions (metric tons per capita)  EN.ATM.CO2E.PC        NaN   \n239  CO2 emissions (metric tons per capita)  EN.ATM.CO2E.PC   0.215631   \n240  CO2 emissions (metric tons per capita)  EN.ATM.CO2E.PC        NaN   \n241  CO2 emissions (metric tons per capita)  EN.ATM.CO2E.PC        NaN   \n242  CO2 emissions (metric tons per capita)  EN.ATM.CO2E.PC   3.096144   \n243  CO2 emissions (metric tons per capita)  EN.ATM.CO2E.PC   0.135009   \n244  CO2 emissions (metric tons per capita)  EN.ATM.CO2E.PC   0.703403   \n245  CO2 emissions (metric tons per capita)  EN.ATM.CO2E.PC   5.629718   \n246  CO2 emissions (metric tons per capita)  EN.ATM.CO2E.PC   0.152228   \n247  CO2 emissions (metric tons per capita)  EN.ATM.CO2E.PC        NaN   \n248  CO2 emissions (metric tons per capita)  EN.ATM.CO2E.PC        NaN   \n\n          1961       1962       1963       1964       1965     ...       \\\n0          NaN        NaN        NaN        NaN        NaN     ...        \n1          NaN        NaN        NaN        NaN        NaN     ...        \n2     0.053615   0.073781   0.074251   0.086317   0.101499     ...        \n3     0.084718   0.216025   0.206877   0.216174   0.206089     ...        \n4     1.374186   1.439956   1.181681   1.111742   1.166099     ...        \n5     0.685501   0.761148   0.875124   0.999248   1.166075     ...        \n6     0.108937   0.163355   0.175712   0.132651   0.146370     ...        \n7     2.442616   2.522392   2.316356   2.538380   2.641714     ...        \n8          NaN        NaN        NaN        NaN        NaN     ...        \n9          NaN        NaN        NaN        NaN        NaN     ...        \n10    0.860441   1.823374   1.470175   1.567094   2.520359     ...        \n11    8.641569   8.835688   9.226440   9.759073  10.622321     ...        \n12    4.496362   4.755362   5.155194   5.391004   5.252197     ...        \n13         NaN        NaN        NaN        NaN        NaN     ...        \n14         NaN   0.015203   0.016155   0.015827   0.011910     ...        \n15   10.103872  10.641190  11.386929  11.053655  11.141656     ...        \n16    0.052046   0.054202   0.047580   0.055295   0.057115     ...        \n17    0.018730   0.017003   0.017504   0.021575   0.019841     ...        \n18         NaN        NaN        NaN        NaN        NaN     ...        \n19    3.269920   3.835892   4.259781   5.262988   5.645652     ...        \n20   10.547396   9.193609   6.714156   8.747480   6.557022     ...        \n21    4.746699   5.996432   5.558199   8.118597   9.399946     ...        \n22         NaN        NaN        NaN        NaN        NaN     ...        \n23         NaN        NaN        NaN        NaN        NaN     ...        \n24    0.387219   0.715409   0.622357   0.818289   0.794763     ...        \n25    3.868484   3.383712   3.151929   4.124438   3.586487     ...        \n26    0.276621   0.286626   0.310159   0.371216   0.371151     ...        \n27    0.658625   0.697281   0.700749   0.694001   0.670372     ...        \n28    0.838899   1.119411   0.816330   0.766085   0.872454     ...        \n29    3.552009   4.133422   3.798174   3.482289   3.254787     ...        \n..         ...        ...        ...        ...        ...     ...        \n219   0.146944   0.173130   0.185877   0.242240   0.234151     ...        \n220        NaN        NaN        NaN        NaN        NaN     ...        \n221        NaN        NaN        NaN        NaN        NaN     ...        \n222        NaN        NaN        NaN        NaN        NaN     ...        \n223   0.172592   0.166040   0.159435   0.153309   0.147936     ...        \n224   5.318141   8.225570   1.466683   4.201774   5.694904     ...        \n225   0.413220   0.412987   0.438885   0.608626   0.532230     ...        \n226   0.615079   0.748241   0.765934   0.869390   0.883506     ...        \n227        NaN        NaN        NaN        NaN        NaN     ...        \n228        NaN        NaN        NaN        NaN        NaN     ...        \n229   0.067872   0.071734   0.072968   0.091197   0.099494     ...        \n230   0.058093   0.059258   0.057791   0.063435   0.078242     ...        \n231        NaN        NaN        NaN        NaN        NaN     ...        \n232   1.057435   0.957318   0.955719   0.982914   1.036033     ...        \n233   1.602723   1.540657   1.639285   1.710101   2.049519     ...        \n234  15.681256  16.013937  16.482762  16.968119  17.451725     ...        \n235        NaN        NaN        NaN        NaN        NaN     ...        \n236   0.133923   0.132214   0.174273   0.215513   0.170614     ...        \n237   6.136886   6.155057   6.155748   5.973226   6.187252     ...        \n238        NaN        NaN        NaN        NaN        NaN     ...        \n239   0.225435   0.258760   0.247579   0.314058   0.343354     ...        \n240        NaN   0.594888   0.471728   0.864247   0.641714     ...        \n241        NaN        NaN        NaN        NaN        NaN     ...        \n242   3.067062   3.138020   3.242364   3.358696   3.437595     ...        \n243   0.163529   0.158352   0.184019   0.208092   0.230869     ...        \n244   0.507631   0.728004   0.537606   0.658012   0.699574     ...        \n245   5.694383   5.729712   5.799844   6.170936   6.467359     ...        \n246   0.150782   0.135559   0.139446   0.116926   0.142290     ...        \n247        NaN        NaN        NaN   0.950434   1.100197     ...        \n248        NaN        NaN        NaN   1.045374   1.179176     ...        \n\n          2007       2008       2009       2010       2011  2012  2013  2014  \\\n0    25.613715  24.750133  24.876706  24.182702  23.922412   NaN   NaN   NaN   \n1     6.350868   6.296125   6.049173   6.124770   5.968685   NaN   NaN   NaN   \n2     0.088141   0.158962   0.249074   0.302936   0.425262   NaN   NaN   NaN   \n3     1.311096   1.369425   1.430873   1.401654   1.354008   NaN   NaN   NaN   \n4     1.507536   1.580113   1.533178   1.515632   1.607038   NaN   NaN   NaN   \n5     4.181153   4.373573   4.575251   4.764912   4.724500   NaN   NaN   NaN   \n6    23.195067  23.033600  21.102296  20.120957  20.433838   NaN   NaN   NaN   \n7     4.496834   4.744178   4.427960   4.342272   4.562049   NaN   NaN   NaN   \n8     1.694755   1.868611   1.469961   1.422998   1.671657   NaN   NaN   NaN   \n9          NaN        NaN        NaN        NaN        NaN   NaN   NaN   NaN   \n10    5.561525   5.628319   5.906292   6.011269   5.823804   NaN   NaN   NaN   \n11   17.467002  17.704080  17.631833  16.710904  16.519210   NaN   NaN   NaN   \n12    8.405093   8.262046   7.608851   8.127693   7.769983   NaN   NaN   NaN   \n13    3.555340   4.051383   3.565668   3.388226   3.647379   NaN   NaN   NaN   \n14    0.021964   0.021615   0.020868   0.020542   0.021350   NaN   NaN   NaN   \n15    9.713718   9.699599   9.634776   9.989976   8.849398   NaN   NaN   NaN   \n16    0.516299   0.500183   0.514278   0.541771   0.509962   NaN   NaN   NaN   \n17    0.115429   0.115427   0.109774   0.107673   0.119981   NaN   NaN   NaN   \n18    0.319840   0.334440   0.352155   0.370360   0.372017   NaN   NaN   NaN   \n19    6.916687   6.778939   5.729716   5.966884   6.714383   NaN   NaN   NaN   \n20   21.443296  21.519995  18.136234  18.435025  17.947330   NaN   NaN   NaN   \n21    4.521354   2.998089   4.630520   6.829321   5.199844   NaN   NaN   NaN   \n22    4.580387   5.231547   5.371890   5.513994   6.196652   NaN   NaN   NaN   \n23    6.305629   6.592749   6.341939   6.556550   6.682510   NaN   NaN   NaN   \n24    1.536094   1.473196   1.495185   1.721709   1.670904   NaN   NaN   NaN   \n25    7.968299   5.955020   7.095329   7.320036   6.077210   NaN   NaN   NaN   \n26    1.318204   1.412189   1.459841   1.547659   1.599499   NaN   NaN   NaN   \n27    1.884034   1.990429   1.866522   2.113415   2.191394   NaN   NaN   NaN   \n28    5.178741   5.871114   5.833678   5.430338   5.580178   NaN   NaN   NaN   \n29   24.178409  26.338271  22.149029  21.873222  24.392013   NaN   NaN   NaN   \n..         ...        ...        ...        ...        ...   ...   ...   ...   \n219   3.994687   3.984060   4.198512   4.470426   4.534492   NaN   NaN   NaN   \n220   0.463345   0.409462   0.382775   0.373873   0.358948   NaN   NaN   NaN   \n221  11.535622  11.557572  10.110661  11.358111  12.183667   NaN   NaN   NaN   \n222   0.180962   0.185017   0.174891   0.171932   0.163648   NaN   NaN   NaN   \n223   1.112637   1.176967   1.276514   1.128883   0.983562   NaN   NaN   NaN   \n224  36.816763  35.455298  36.569448  38.337841  37.140054   NaN   NaN   NaN   \n225   2.357974   2.403508   2.374157   2.535619   2.402456   NaN   NaN   NaN   \n226   4.094889   4.055397   3.898959   4.121155   4.383105   NaN   NaN   NaN   \n227        NaN        NaN        NaN        NaN        NaN   NaN   NaN   NaN   \n228        NaN        NaN        NaN        NaN        NaN   NaN   NaN   NaN   \n229   0.144041   0.147982   0.139973   0.150059   0.154935   NaN   NaN   NaN   \n230   0.104293   0.101919   0.105320   0.108297   0.110887   NaN   NaN   NaN   \n231   6.910708   6.724046   5.647014   6.638152   6.262352   NaN   NaN   NaN   \n232   4.689606   4.838241   5.074839   5.359268   5.710659   NaN   NaN   NaN   \n233   1.796306   2.471054   2.401221   1.912605   2.296201   NaN   NaN   NaN   \n234  19.237460  18.489234  17.192379  17.484792  17.020216   NaN   NaN   NaN   \n235   4.391447   4.434466   3.912053   3.693268   3.914921   NaN   NaN   NaN   \n236   2.084879   2.116255   2.114512   2.146877   2.179923   NaN   NaN   NaN   \n237   5.868518   6.604892   6.525293   6.811756   6.416334   NaN   NaN   NaN   \n238        NaN        NaN        NaN        NaN        NaN   NaN   NaN   NaN   \n239   1.352791   1.497496   1.636371   1.761695   1.971889   NaN   NaN   NaN   \n240   0.433459   0.406839   0.508463   0.496591   0.591266   NaN   NaN   NaN   \n241   0.665297   0.570947   0.564578   0.534015   0.572407   NaN   NaN   NaN   \n242   4.686122   4.741826   4.663120   4.840436   4.944676   NaN   NaN   NaN   \n243   1.026224   1.039490   1.072106   1.103871   1.252110   NaN   NaN   NaN   \n244   0.981422   0.989905   1.026251   1.090060   0.919968   NaN   NaN   NaN   \n245   9.063326   9.506481   9.545495   8.957154   9.257216   NaN   NaN   NaN   \n246   0.047312   0.048411   0.045604   0.049328   0.050303   NaN   NaN   NaN   \n247   0.150265   0.164692   0.184058   0.192079   0.212450   NaN   NaN   NaN   \n248   0.731867   0.569255   0.600521   0.646073   0.691698   NaN   NaN   NaN   \n\n     2015  Unnamed: 60  \n0     NaN          NaN  \n1     NaN          NaN  \n2     NaN          NaN  \n3     NaN          NaN  \n4     NaN          NaN  \n5     NaN          NaN  \n6     NaN          NaN  \n7     NaN          NaN  \n8     NaN          NaN  \n9     NaN          NaN  \n10    NaN          NaN  \n11    NaN          NaN  \n12    NaN          NaN  \n13    NaN          NaN  \n14    NaN          NaN  \n15    NaN          NaN  \n16    NaN          NaN  \n17    NaN          NaN  \n18    NaN          NaN  \n19    NaN          NaN  \n20    NaN          NaN  \n21    NaN          NaN  \n22    NaN          NaN  \n23    NaN          NaN  \n24    NaN          NaN  \n25    NaN          NaN  \n26    NaN          NaN  \n27    NaN          NaN  \n28    NaN          NaN  \n29    NaN          NaN  \n..    ...          ...  \n219   NaN          NaN  \n220   NaN          NaN  \n221   NaN          NaN  \n222   NaN          NaN  \n223   NaN          NaN  \n224   NaN          NaN  \n225   NaN          NaN  \n226   NaN          NaN  \n227   NaN          NaN  \n228   NaN          NaN  \n229   NaN          NaN  \n230   NaN          NaN  \n231   NaN          NaN  \n232   NaN          NaN  \n233   NaN          NaN  \n234   NaN          NaN  \n235   NaN          NaN  \n236   NaN          NaN  \n237   NaN          NaN  \n238   NaN          NaN  \n239   NaN          NaN  \n240   NaN          NaN  \n241   NaN          NaN  \n242   NaN          NaN  \n243   NaN          NaN  \n244   NaN          NaN  \n245   NaN          NaN  \n246   NaN          NaN  \n247   NaN          NaN  \n248   NaN          NaN  \n\n[249 rows x 61 columns]"
                    }, 
                    "output_type": "execute_result"
                }
            ], 
            "source": "data"
        }, 
        {
            "source": "#### Display first 5 rows of `data` using `head`", 
            "cell_type": "markdown", 
            "metadata": {}
        }, 
        {
            "execution_count": 72, 
            "cell_type": "code", 
            "metadata": {}, 
            "outputs": [
                {
                    "execution_count": 72, 
                    "metadata": {}, 
                    "data": {
                        "text/html": "<div>\n<style scoped>\n    .dataframe tbody tr th:only-of-type {\n        vertical-align: middle;\n    }\n\n    .dataframe tbody tr th {\n        vertical-align: top;\n    }\n\n    .dataframe thead th {\n        text-align: right;\n    }\n</style>\n<table border=\"1\" class=\"dataframe\">\n  <thead>\n    <tr style=\"text-align: right;\">\n      <th></th>\n      <th>Country Name</th>\n      <th>Country Code</th>\n      <th>Indicator Name</th>\n      <th>Indicator Code</th>\n      <th>1960</th>\n      <th>1961</th>\n      <th>1962</th>\n      <th>1963</th>\n      <th>1964</th>\n      <th>1965</th>\n      <th>...</th>\n      <th>2007</th>\n      <th>2008</th>\n      <th>2009</th>\n      <th>2010</th>\n      <th>2011</th>\n      <th>2012</th>\n      <th>2013</th>\n      <th>2014</th>\n      <th>2015</th>\n      <th>Unnamed: 60</th>\n    </tr>\n  </thead>\n  <tbody>\n    <tr>\n      <th>0</th>\n      <td>Aruba</td>\n      <td>ABW</td>\n      <td>CO2 emissions (metric tons per capita)</td>\n      <td>EN.ATM.CO2E.PC</td>\n      <td>NaN</td>\n      <td>NaN</td>\n      <td>NaN</td>\n      <td>NaN</td>\n      <td>NaN</td>\n      <td>NaN</td>\n      <td>...</td>\n      <td>25.613715</td>\n      <td>24.750133</td>\n      <td>24.876706</td>\n      <td>24.182702</td>\n      <td>23.922412</td>\n      <td>NaN</td>\n      <td>NaN</td>\n      <td>NaN</td>\n      <td>NaN</td>\n      <td>NaN</td>\n    </tr>\n    <tr>\n      <th>1</th>\n      <td>Andorra</td>\n      <td>AND</td>\n      <td>CO2 emissions (metric tons per capita)</td>\n      <td>EN.ATM.CO2E.PC</td>\n      <td>NaN</td>\n      <td>NaN</td>\n      <td>NaN</td>\n      <td>NaN</td>\n      <td>NaN</td>\n      <td>NaN</td>\n      <td>...</td>\n      <td>6.350868</td>\n      <td>6.296125</td>\n      <td>6.049173</td>\n      <td>6.124770</td>\n      <td>5.968685</td>\n      <td>NaN</td>\n      <td>NaN</td>\n      <td>NaN</td>\n      <td>NaN</td>\n      <td>NaN</td>\n    </tr>\n    <tr>\n      <th>2</th>\n      <td>Afghanistan</td>\n      <td>AFG</td>\n      <td>CO2 emissions (metric tons per capita)</td>\n      <td>EN.ATM.CO2E.PC</td>\n      <td>0.046068</td>\n      <td>0.053615</td>\n      <td>0.073781</td>\n      <td>0.074251</td>\n      <td>0.086317</td>\n      <td>0.101499</td>\n      <td>...</td>\n      <td>0.088141</td>\n      <td>0.158962</td>\n      <td>0.249074</td>\n      <td>0.302936</td>\n      <td>0.425262</td>\n      <td>NaN</td>\n      <td>NaN</td>\n      <td>NaN</td>\n      <td>NaN</td>\n      <td>NaN</td>\n    </tr>\n    <tr>\n      <th>3</th>\n      <td>Angola</td>\n      <td>AGO</td>\n      <td>CO2 emissions (metric tons per capita)</td>\n      <td>EN.ATM.CO2E.PC</td>\n      <td>0.104357</td>\n      <td>0.084718</td>\n      <td>0.216025</td>\n      <td>0.206877</td>\n      <td>0.216174</td>\n      <td>0.206089</td>\n      <td>...</td>\n      <td>1.311096</td>\n      <td>1.369425</td>\n      <td>1.430873</td>\n      <td>1.401654</td>\n      <td>1.354008</td>\n      <td>NaN</td>\n      <td>NaN</td>\n      <td>NaN</td>\n      <td>NaN</td>\n      <td>NaN</td>\n    </tr>\n    <tr>\n      <th>4</th>\n      <td>Albania</td>\n      <td>ALB</td>\n      <td>CO2 emissions (metric tons per capita)</td>\n      <td>EN.ATM.CO2E.PC</td>\n      <td>1.258195</td>\n      <td>1.374186</td>\n      <td>1.439956</td>\n      <td>1.181681</td>\n      <td>1.111742</td>\n      <td>1.166099</td>\n      <td>...</td>\n      <td>1.507536</td>\n      <td>1.580113</td>\n      <td>1.533178</td>\n      <td>1.515632</td>\n      <td>1.607038</td>\n      <td>NaN</td>\n      <td>NaN</td>\n      <td>NaN</td>\n      <td>NaN</td>\n      <td>NaN</td>\n    </tr>\n  </tbody>\n</table>\n<p>5 rows \u00d7 61 columns</p>\n</div>", 
                        "text/plain": "  Country Name Country Code                          Indicator Name  \\\n0        Aruba          ABW  CO2 emissions (metric tons per capita)   \n1      Andorra          AND  CO2 emissions (metric tons per capita)   \n2  Afghanistan          AFG  CO2 emissions (metric tons per capita)   \n3       Angola          AGO  CO2 emissions (metric tons per capita)   \n4      Albania          ALB  CO2 emissions (metric tons per capita)   \n\n   Indicator Code      1960      1961      1962      1963      1964      1965  \\\n0  EN.ATM.CO2E.PC       NaN       NaN       NaN       NaN       NaN       NaN   \n1  EN.ATM.CO2E.PC       NaN       NaN       NaN       NaN       NaN       NaN   \n2  EN.ATM.CO2E.PC  0.046068  0.053615  0.073781  0.074251  0.086317  0.101499   \n3  EN.ATM.CO2E.PC  0.104357  0.084718  0.216025  0.206877  0.216174  0.206089   \n4  EN.ATM.CO2E.PC  1.258195  1.374186  1.439956  1.181681  1.111742  1.166099   \n\n      ...            2007       2008       2009       2010       2011  2012  \\\n0     ...       25.613715  24.750133  24.876706  24.182702  23.922412   NaN   \n1     ...        6.350868   6.296125   6.049173   6.124770   5.968685   NaN   \n2     ...        0.088141   0.158962   0.249074   0.302936   0.425262   NaN   \n3     ...        1.311096   1.369425   1.430873   1.401654   1.354008   NaN   \n4     ...        1.507536   1.580113   1.533178   1.515632   1.607038   NaN   \n\n   2013  2014  2015  Unnamed: 60  \n0   NaN   NaN   NaN          NaN  \n1   NaN   NaN   NaN          NaN  \n2   NaN   NaN   NaN          NaN  \n3   NaN   NaN   NaN          NaN  \n4   NaN   NaN   NaN          NaN  \n\n[5 rows x 61 columns]"
                    }, 
                    "output_type": "execute_result"
                }
            ], 
            "source": "data.head()"
        }, 
        {
            "source": "#### Take just the first two rows using `head`", 
            "cell_type": "markdown", 
            "metadata": {}
        }, 
        {
            "execution_count": 73, 
            "cell_type": "code", 
            "metadata": {}, 
            "outputs": [
                {
                    "execution_count": 73, 
                    "metadata": {}, 
                    "data": {
                        "text/html": "<div>\n<style scoped>\n    .dataframe tbody tr th:only-of-type {\n        vertical-align: middle;\n    }\n\n    .dataframe tbody tr th {\n        vertical-align: top;\n    }\n\n    .dataframe thead th {\n        text-align: right;\n    }\n</style>\n<table border=\"1\" class=\"dataframe\">\n  <thead>\n    <tr style=\"text-align: right;\">\n      <th></th>\n      <th>Country Name</th>\n      <th>Country Code</th>\n      <th>Indicator Name</th>\n      <th>Indicator Code</th>\n      <th>1960</th>\n      <th>1961</th>\n      <th>1962</th>\n      <th>1963</th>\n      <th>1964</th>\n      <th>1965</th>\n      <th>...</th>\n      <th>2007</th>\n      <th>2008</th>\n      <th>2009</th>\n      <th>2010</th>\n      <th>2011</th>\n      <th>2012</th>\n      <th>2013</th>\n      <th>2014</th>\n      <th>2015</th>\n      <th>Unnamed: 60</th>\n    </tr>\n  </thead>\n  <tbody>\n    <tr>\n      <th>0</th>\n      <td>Aruba</td>\n      <td>ABW</td>\n      <td>CO2 emissions (metric tons per capita)</td>\n      <td>EN.ATM.CO2E.PC</td>\n      <td>NaN</td>\n      <td>NaN</td>\n      <td>NaN</td>\n      <td>NaN</td>\n      <td>NaN</td>\n      <td>NaN</td>\n      <td>...</td>\n      <td>25.613715</td>\n      <td>24.750133</td>\n      <td>24.876706</td>\n      <td>24.182702</td>\n      <td>23.922412</td>\n      <td>NaN</td>\n      <td>NaN</td>\n      <td>NaN</td>\n      <td>NaN</td>\n      <td>NaN</td>\n    </tr>\n    <tr>\n      <th>1</th>\n      <td>Andorra</td>\n      <td>AND</td>\n      <td>CO2 emissions (metric tons per capita)</td>\n      <td>EN.ATM.CO2E.PC</td>\n      <td>NaN</td>\n      <td>NaN</td>\n      <td>NaN</td>\n      <td>NaN</td>\n      <td>NaN</td>\n      <td>NaN</td>\n      <td>...</td>\n      <td>6.350868</td>\n      <td>6.296125</td>\n      <td>6.049173</td>\n      <td>6.124770</td>\n      <td>5.968685</td>\n      <td>NaN</td>\n      <td>NaN</td>\n      <td>NaN</td>\n      <td>NaN</td>\n      <td>NaN</td>\n    </tr>\n  </tbody>\n</table>\n<p>2 rows \u00d7 61 columns</p>\n</div>", 
                        "text/plain": "  Country Name Country Code                          Indicator Name  \\\n0        Aruba          ABW  CO2 emissions (metric tons per capita)   \n1      Andorra          AND  CO2 emissions (metric tons per capita)   \n\n   Indicator Code  1960  1961  1962  1963  1964  1965     ...            2007  \\\n0  EN.ATM.CO2E.PC   NaN   NaN   NaN   NaN   NaN   NaN     ...       25.613715   \n1  EN.ATM.CO2E.PC   NaN   NaN   NaN   NaN   NaN   NaN     ...        6.350868   \n\n        2008       2009       2010       2011  2012  2013  2014  2015  \\\n0  24.750133  24.876706  24.182702  23.922412   NaN   NaN   NaN   NaN   \n1   6.296125   6.049173   6.124770   5.968685   NaN   NaN   NaN   NaN   \n\n   Unnamed: 60  \n0          NaN  \n1          NaN  \n\n[2 rows x 61 columns]"
                    }, 
                    "output_type": "execute_result"
                }
            ], 
            "source": "data.head(2)"
        }, 
        {
            "execution_count": 74, 
            "cell_type": "code", 
            "metadata": {
                "scrolled": true
            }, 
            "outputs": [
                {
                    "execution_count": 74, 
                    "metadata": {}, 
                    "data": {
                        "text/html": "<div>\n<style scoped>\n    .dataframe tbody tr th:only-of-type {\n        vertical-align: middle;\n    }\n\n    .dataframe tbody tr th {\n        vertical-align: top;\n    }\n\n    .dataframe thead th {\n        text-align: right;\n    }\n</style>\n<table border=\"1\" class=\"dataframe\">\n  <thead>\n    <tr style=\"text-align: right;\">\n      <th></th>\n      <th>Country Name</th>\n      <th>Country Code</th>\n      <th>Indicator Name</th>\n      <th>Indicator Code</th>\n      <th>1960</th>\n      <th>1961</th>\n      <th>1962</th>\n      <th>1963</th>\n      <th>1964</th>\n      <th>1965</th>\n      <th>...</th>\n      <th>2007</th>\n      <th>2008</th>\n      <th>2009</th>\n      <th>2010</th>\n      <th>2011</th>\n      <th>2012</th>\n      <th>2013</th>\n      <th>2014</th>\n      <th>2015</th>\n      <th>Unnamed: 60</th>\n    </tr>\n  </thead>\n  <tbody>\n    <tr>\n      <th>0</th>\n      <td>Aruba</td>\n      <td>ABW</td>\n      <td>CO2 emissions (metric tons per capita)</td>\n      <td>EN.ATM.CO2E.PC</td>\n      <td>NaN</td>\n      <td>NaN</td>\n      <td>NaN</td>\n      <td>NaN</td>\n      <td>NaN</td>\n      <td>NaN</td>\n      <td>...</td>\n      <td>25.613715</td>\n      <td>24.750133</td>\n      <td>24.876706</td>\n      <td>24.182702</td>\n      <td>23.922412</td>\n      <td>NaN</td>\n      <td>NaN</td>\n      <td>NaN</td>\n      <td>NaN</td>\n      <td>NaN</td>\n    </tr>\n  </tbody>\n</table>\n<p>1 rows \u00d7 61 columns</p>\n</div>", 
                        "text/plain": "  Country Name Country Code                          Indicator Name  \\\n0        Aruba          ABW  CO2 emissions (metric tons per capita)   \n\n   Indicator Code  1960  1961  1962  1963  1964  1965     ...            2007  \\\n0  EN.ATM.CO2E.PC   NaN   NaN   NaN   NaN   NaN   NaN     ...       25.613715   \n\n        2008       2009       2010       2011  2012  2013  2014  2015  \\\n0  24.750133  24.876706  24.182702  23.922412   NaN   NaN   NaN   NaN   \n\n   Unnamed: 60  \n0          NaN  \n\n[1 rows x 61 columns]"
                    }, 
                    "output_type": "execute_result"
                }
            ], 
            "source": "data.head(n=1)"
        }, 
        {
            "source": "### Don't remember what the parameters are for a function? Use `?`", 
            "cell_type": "markdown", 
            "metadata": {}
        }, 
        {
            "execution_count": 78, 
            "cell_type": "code", 
            "metadata": {}, 
            "outputs": [], 
            "source": "#To close help window, press q\n?data.head"
        }, 
        {
            "source": "#### Display last 7 rows of data", 
            "cell_type": "markdown", 
            "metadata": {}
        }, 
        {
            "execution_count": 79, 
            "cell_type": "code", 
            "metadata": {}, 
            "outputs": [
                {
                    "execution_count": 79, 
                    "metadata": {}, 
                    "data": {
                        "text/html": "<div>\n<style scoped>\n    .dataframe tbody tr th:only-of-type {\n        vertical-align: middle;\n    }\n\n    .dataframe tbody tr th {\n        vertical-align: top;\n    }\n\n    .dataframe thead th {\n        text-align: right;\n    }\n</style>\n<table border=\"1\" class=\"dataframe\">\n  <thead>\n    <tr style=\"text-align: right;\">\n      <th></th>\n      <th>Country Name</th>\n      <th>Country Code</th>\n      <th>Indicator Name</th>\n      <th>Indicator Code</th>\n      <th>1960</th>\n      <th>1961</th>\n      <th>1962</th>\n      <th>1963</th>\n      <th>1964</th>\n      <th>1965</th>\n      <th>...</th>\n      <th>2007</th>\n      <th>2008</th>\n      <th>2009</th>\n      <th>2010</th>\n      <th>2011</th>\n      <th>2012</th>\n      <th>2013</th>\n      <th>2014</th>\n      <th>2015</th>\n      <th>Unnamed: 60</th>\n    </tr>\n  </thead>\n  <tbody>\n    <tr>\n      <th>246</th>\n      <td>Congo, Dem. Rep.</td>\n      <td>COD</td>\n      <td>CO2 emissions (metric tons per capita)</td>\n      <td>EN.ATM.CO2E.PC</td>\n      <td>0.152228</td>\n      <td>0.150782</td>\n      <td>0.135559</td>\n      <td>0.139446</td>\n      <td>0.116926</td>\n      <td>0.142290</td>\n      <td>...</td>\n      <td>0.047312</td>\n      <td>0.048411</td>\n      <td>0.045604</td>\n      <td>0.049328</td>\n      <td>0.050303</td>\n      <td>NaN</td>\n      <td>NaN</td>\n      <td>NaN</td>\n      <td>NaN</td>\n      <td>NaN</td>\n    </tr>\n    <tr>\n      <th>247</th>\n      <td>Zambia</td>\n      <td>ZMB</td>\n      <td>CO2 emissions (metric tons per capita)</td>\n      <td>EN.ATM.CO2E.PC</td>\n      <td>NaN</td>\n      <td>NaN</td>\n      <td>NaN</td>\n      <td>NaN</td>\n      <td>0.950434</td>\n      <td>1.100197</td>\n      <td>...</td>\n      <td>0.150265</td>\n      <td>0.164692</td>\n      <td>0.184058</td>\n      <td>0.192079</td>\n      <td>0.212450</td>\n      <td>NaN</td>\n      <td>NaN</td>\n      <td>NaN</td>\n      <td>NaN</td>\n      <td>NaN</td>\n    </tr>\n    <tr>\n      <th>248</th>\n      <td>Zimbabwe</td>\n      <td>ZWE</td>\n      <td>CO2 emissions (metric tons per capita)</td>\n      <td>EN.ATM.CO2E.PC</td>\n      <td>NaN</td>\n      <td>NaN</td>\n      <td>NaN</td>\n      <td>NaN</td>\n      <td>1.045374</td>\n      <td>1.179176</td>\n      <td>...</td>\n      <td>0.731867</td>\n      <td>0.569255</td>\n      <td>0.600521</td>\n      <td>0.646073</td>\n      <td>0.691698</td>\n      <td>NaN</td>\n      <td>NaN</td>\n      <td>NaN</td>\n      <td>NaN</td>\n      <td>NaN</td>\n    </tr>\n  </tbody>\n</table>\n<p>3 rows \u00d7 61 columns</p>\n</div>", 
                        "text/plain": "         Country Name Country Code                          Indicator Name  \\\n246  Congo, Dem. Rep.          COD  CO2 emissions (metric tons per capita)   \n247            Zambia          ZMB  CO2 emissions (metric tons per capita)   \n248          Zimbabwe          ZWE  CO2 emissions (metric tons per capita)   \n\n     Indicator Code      1960      1961      1962      1963      1964  \\\n246  EN.ATM.CO2E.PC  0.152228  0.150782  0.135559  0.139446  0.116926   \n247  EN.ATM.CO2E.PC       NaN       NaN       NaN       NaN  0.950434   \n248  EN.ATM.CO2E.PC       NaN       NaN       NaN       NaN  1.045374   \n\n         1965     ...           2007      2008      2009      2010      2011  \\\n246  0.142290     ...       0.047312  0.048411  0.045604  0.049328  0.050303   \n247  1.100197     ...       0.150265  0.164692  0.184058  0.192079  0.212450   \n248  1.179176     ...       0.731867  0.569255  0.600521  0.646073  0.691698   \n\n     2012  2013  2014  2015  Unnamed: 60  \n246   NaN   NaN   NaN   NaN          NaN  \n247   NaN   NaN   NaN   NaN          NaN  \n248   NaN   NaN   NaN   NaN          NaN  \n\n[3 rows x 61 columns]"
                    }, 
                    "output_type": "execute_result"
                }
            ], 
            "source": "data.tail(3)"
        }, 
        {
            "source": "<hr>", 
            "cell_type": "markdown", 
            "metadata": {}
        }, 
        {
            "source": "<h2, align=center>Dataframe characteristics</h2>", 
            "cell_type": "markdown", 
            "metadata": {}
        }, 
        {
            "source": "#### How many rows and columns are there?", 
            "cell_type": "markdown", 
            "metadata": {}
        }, 
        {
            "execution_count": 80, 
            "cell_type": "code", 
            "metadata": {}, 
            "outputs": [
                {
                    "execution_count": 80, 
                    "metadata": {}, 
                    "data": {
                        "text/plain": "(249, 61)"
                    }, 
                    "output_type": "execute_result"
                }
            ], 
            "source": "data.shape #(rows, columns)"
        }, 
        {
            "execution_count": 81, 
            "cell_type": "code", 
            "metadata": {}, 
            "outputs": [
                {
                    "execution_count": 81, 
                    "metadata": {}, 
                    "data": {
                        "text/html": "<div>\n<style scoped>\n    .dataframe tbody tr th:only-of-type {\n        vertical-align: middle;\n    }\n\n    .dataframe tbody tr th {\n        vertical-align: top;\n    }\n\n    .dataframe thead th {\n        text-align: right;\n    }\n</style>\n<table border=\"1\" class=\"dataframe\">\n  <thead>\n    <tr style=\"text-align: right;\">\n      <th></th>\n      <th>1960</th>\n      <th>1961</th>\n      <th>1962</th>\n      <th>1963</th>\n      <th>1964</th>\n      <th>1965</th>\n      <th>1966</th>\n      <th>1967</th>\n      <th>1968</th>\n      <th>1969</th>\n      <th>...</th>\n      <th>2007</th>\n      <th>2008</th>\n      <th>2009</th>\n      <th>2010</th>\n      <th>2011</th>\n      <th>2012</th>\n      <th>2013</th>\n      <th>2014</th>\n      <th>2015</th>\n      <th>Unnamed: 60</th>\n    </tr>\n  </thead>\n  <tbody>\n    <tr>\n      <th>count</th>\n      <td>180.000000</td>\n      <td>181.000000</td>\n      <td>182.000000</td>\n      <td>183.000000</td>\n      <td>188.000000</td>\n      <td>188.000000</td>\n      <td>188.000000</td>\n      <td>188.000000</td>\n      <td>187.000000</td>\n      <td>188.000000</td>\n      <td>...</td>\n      <td>232.000000</td>\n      <td>232.000000</td>\n      <td>232.000000</td>\n      <td>232.000000</td>\n      <td>232.000000</td>\n      <td>0.0</td>\n      <td>0.0</td>\n      <td>0.0</td>\n      <td>0.0</td>\n      <td>0.0</td>\n    </tr>\n    <tr>\n      <th>mean</th>\n      <td>2.147848</td>\n      <td>2.273331</td>\n      <td>2.382827</td>\n      <td>2.925962</td>\n      <td>3.076591</td>\n      <td>3.203665</td>\n      <td>3.216921</td>\n      <td>3.287063</td>\n      <td>3.515189</td>\n      <td>4.136080</td>\n      <td>...</td>\n      <td>5.023040</td>\n      <td>4.980116</td>\n      <td>4.755409</td>\n      <td>4.911618</td>\n      <td>4.884828</td>\n      <td>NaN</td>\n      <td>NaN</td>\n      <td>NaN</td>\n      <td>NaN</td>\n      <td>NaN</td>\n    </tr>\n    <tr>\n      <th>std</th>\n      <td>4.348322</td>\n      <td>4.542379</td>\n      <td>4.889944</td>\n      <td>8.741776</td>\n      <td>8.776709</td>\n      <td>8.964691</td>\n      <td>8.309355</td>\n      <td>7.504329</td>\n      <td>7.450713</td>\n      <td>10.208690</td>\n      <td>...</td>\n      <td>6.598310</td>\n      <td>6.328807</td>\n      <td>5.975440</td>\n      <td>6.100080</td>\n      <td>6.051724</td>\n      <td>NaN</td>\n      <td>NaN</td>\n      <td>NaN</td>\n      <td>NaN</td>\n      <td>NaN</td>\n    </tr>\n    <tr>\n      <th>min</th>\n      <td>0.008022</td>\n      <td>0.007897</td>\n      <td>0.008481</td>\n      <td>0.009390</td>\n      <td>0.011598</td>\n      <td>0.011910</td>\n      <td>0.013258</td>\n      <td>0.011800</td>\n      <td>0.015594</td>\n      <td>0.016116</td>\n      <td>...</td>\n      <td>0.021964</td>\n      <td>0.021615</td>\n      <td>0.020868</td>\n      <td>0.020542</td>\n      <td>0.021350</td>\n      <td>NaN</td>\n      <td>NaN</td>\n      <td>NaN</td>\n      <td>NaN</td>\n      <td>NaN</td>\n    </tr>\n    <tr>\n      <th>25%</th>\n      <td>0.176743</td>\n      <td>0.173541</td>\n      <td>0.196524</td>\n      <td>0.192676</td>\n      <td>0.213766</td>\n      <td>0.229534</td>\n      <td>0.231413</td>\n      <td>0.241491</td>\n      <td>0.269411</td>\n      <td>0.318197</td>\n      <td>...</td>\n      <td>0.765607</td>\n      <td>0.776208</td>\n      <td>0.793028</td>\n      <td>0.797337</td>\n      <td>0.829105</td>\n      <td>NaN</td>\n      <td>NaN</td>\n      <td>NaN</td>\n      <td>NaN</td>\n      <td>NaN</td>\n    </tr>\n    <tr>\n      <th>50%</th>\n      <td>0.606451</td>\n      <td>0.646400</td>\n      <td>0.657922</td>\n      <td>0.655980</td>\n      <td>0.726711</td>\n      <td>0.716547</td>\n      <td>0.760381</td>\n      <td>0.785352</td>\n      <td>0.884673</td>\n      <td>0.910402</td>\n      <td>...</td>\n      <td>2.893936</td>\n      <td>2.989729</td>\n      <td>2.958360</td>\n      <td>2.943880</td>\n      <td>3.045189</td>\n      <td>NaN</td>\n      <td>NaN</td>\n      <td>NaN</td>\n      <td>NaN</td>\n      <td>NaN</td>\n    </tr>\n    <tr>\n      <th>75%</th>\n      <td>1.960040</td>\n      <td>2.442616</td>\n      <td>2.674866</td>\n      <td>2.211640</td>\n      <td>2.404358</td>\n      <td>2.609091</td>\n      <td>3.256631</td>\n      <td>3.997464</td>\n      <td>4.279434</td>\n      <td>4.267795</td>\n      <td>...</td>\n      <td>7.219751</td>\n      <td>7.022516</td>\n      <td>6.522355</td>\n      <td>6.816148</td>\n      <td>6.711322</td>\n      <td>NaN</td>\n      <td>NaN</td>\n      <td>NaN</td>\n      <td>NaN</td>\n      <td>NaN</td>\n    </tr>\n    <tr>\n      <th>max</th>\n      <td>36.685183</td>\n      <td>36.583778</td>\n      <td>42.637118</td>\n      <td>99.575940</td>\n      <td>92.969565</td>\n      <td>85.563167</td>\n      <td>78.734608</td>\n      <td>77.629183</td>\n      <td>76.104350</td>\n      <td>99.840439</td>\n      <td>...</td>\n      <td>55.336800</td>\n      <td>48.601620</td>\n      <td>44.836401</td>\n      <td>42.639076</td>\n      <td>44.018926</td>\n      <td>NaN</td>\n      <td>NaN</td>\n      <td>NaN</td>\n      <td>NaN</td>\n      <td>NaN</td>\n    </tr>\n  </tbody>\n</table>\n<p>8 rows \u00d7 57 columns</p>\n</div>", 
                        "text/plain": "             1960        1961        1962        1963        1964        1965  \\\ncount  180.000000  181.000000  182.000000  183.000000  188.000000  188.000000   \nmean     2.147848    2.273331    2.382827    2.925962    3.076591    3.203665   \nstd      4.348322    4.542379    4.889944    8.741776    8.776709    8.964691   \nmin      0.008022    0.007897    0.008481    0.009390    0.011598    0.011910   \n25%      0.176743    0.173541    0.196524    0.192676    0.213766    0.229534   \n50%      0.606451    0.646400    0.657922    0.655980    0.726711    0.716547   \n75%      1.960040    2.442616    2.674866    2.211640    2.404358    2.609091   \nmax     36.685183   36.583778   42.637118   99.575940   92.969565   85.563167   \n\n             1966        1967        1968        1969     ...       \\\ncount  188.000000  188.000000  187.000000  188.000000     ...        \nmean     3.216921    3.287063    3.515189    4.136080     ...        \nstd      8.309355    7.504329    7.450713   10.208690     ...        \nmin      0.013258    0.011800    0.015594    0.016116     ...        \n25%      0.231413    0.241491    0.269411    0.318197     ...        \n50%      0.760381    0.785352    0.884673    0.910402     ...        \n75%      3.256631    3.997464    4.279434    4.267795     ...        \nmax     78.734608   77.629183   76.104350   99.840439     ...        \n\n             2007        2008        2009        2010        2011  2012  2013  \\\ncount  232.000000  232.000000  232.000000  232.000000  232.000000   0.0   0.0   \nmean     5.023040    4.980116    4.755409    4.911618    4.884828   NaN   NaN   \nstd      6.598310    6.328807    5.975440    6.100080    6.051724   NaN   NaN   \nmin      0.021964    0.021615    0.020868    0.020542    0.021350   NaN   NaN   \n25%      0.765607    0.776208    0.793028    0.797337    0.829105   NaN   NaN   \n50%      2.893936    2.989729    2.958360    2.943880    3.045189   NaN   NaN   \n75%      7.219751    7.022516    6.522355    6.816148    6.711322   NaN   NaN   \nmax     55.336800   48.601620   44.836401   42.639076   44.018926   NaN   NaN   \n\n       2014  2015  Unnamed: 60  \ncount   0.0   0.0          0.0  \nmean    NaN   NaN          NaN  \nstd     NaN   NaN          NaN  \nmin     NaN   NaN          NaN  \n25%     NaN   NaN          NaN  \n50%     NaN   NaN          NaN  \n75%     NaN   NaN          NaN  \nmax     NaN   NaN          NaN  \n\n[8 rows x 57 columns]"
                    }, 
                    "output_type": "execute_result"
                }
            ], 
            "source": "data.describe()"
        }, 
        {
            "source": "#### What are the column names?", 
            "cell_type": "markdown", 
            "metadata": {}
        }, 
        {
            "execution_count": 82, 
            "cell_type": "code", 
            "metadata": {
                "scrolled": true
            }, 
            "outputs": [
                {
                    "execution_count": 82, 
                    "metadata": {}, 
                    "data": {
                        "text/plain": "Index(['Country Name', 'Country Code', 'Indicator Name', 'Indicator Code',\n       '1960', '1961', '1962', '1963', '1964', '1965', '1966', '1967', '1968',\n       '1969', '1970', '1971', '1972', '1973', '1974', '1975', '1976', '1977',\n       '1978', '1979', '1980', '1981', '1982', '1983', '1984', '1985', '1986',\n       '1987', '1988', '1989', '1990', '1991', '1992', '1993', '1994', '1995',\n       '1996', '1997', '1998', '1999', '2000', '2001', '2002', '2003', '2004',\n       '2005', '2006', '2007', '2008', '2009', '2010', '2011', '2012', '2013',\n       '2014', '2015', 'Unnamed: 60'],\n      dtype='object')"
                    }, 
                    "output_type": "execute_result"
                }
            ], 
            "source": "data.columns"
        }, 
        {
            "source": "#### What is the first column name?", 
            "cell_type": "markdown", 
            "metadata": {}
        }, 
        {
            "execution_count": 83, 
            "cell_type": "code", 
            "metadata": {}, 
            "outputs": [
                {
                    "execution_count": 83, 
                    "metadata": {}, 
                    "data": {
                        "text/plain": "'Country Name'"
                    }, 
                    "output_type": "execute_result"
                }
            ], 
            "source": "data.columns[0]"
        }, 
        {
            "source": "#### What is the first and second column name?", 
            "cell_type": "markdown", 
            "metadata": {}
        }, 
        {
            "execution_count": 84, 
            "cell_type": "code", 
            "metadata": {}, 
            "outputs": [
                {
                    "execution_count": 84, 
                    "metadata": {}, 
                    "data": {
                        "text/plain": "Index(['Country Name', 'Country Code'], dtype='object')"
                    }, 
                    "output_type": "execute_result"
                }
            ], 
            "source": "data.columns[[0,1]]"
        }, 
        {
            "source": "<hr>", 
            "cell_type": "markdown", 
            "metadata": {}
        }, 
        {
            "source": "## Review Questions", 
            "cell_type": "markdown", 
            "metadata": {}
        }, 
        {
            "source": "### <span style=\"color: red\">YOUR TURN:</span> ", 
            "cell_type": "markdown", 
            "metadata": {}
        }, 
        {
            "source": "#### Print the first 3 rows of `data`", 
            "cell_type": "markdown", 
            "metadata": {}
        }, 
        {
            "execution_count": 87, 
            "cell_type": "code", 
            "metadata": {}, 
            "outputs": [
                {
                    "execution_count": 87, 
                    "metadata": {}, 
                    "data": {
                        "text/html": "<div>\n<style scoped>\n    .dataframe tbody tr th:only-of-type {\n        vertical-align: middle;\n    }\n\n    .dataframe tbody tr th {\n        vertical-align: top;\n    }\n\n    .dataframe thead th {\n        text-align: right;\n    }\n</style>\n<table border=\"1\" class=\"dataframe\">\n  <thead>\n    <tr style=\"text-align: right;\">\n      <th></th>\n      <th>Country Name</th>\n      <th>Country Code</th>\n      <th>Indicator Name</th>\n      <th>Indicator Code</th>\n      <th>1960</th>\n      <th>1961</th>\n      <th>1962</th>\n      <th>1963</th>\n      <th>1964</th>\n      <th>1965</th>\n      <th>...</th>\n      <th>2007</th>\n      <th>2008</th>\n      <th>2009</th>\n      <th>2010</th>\n      <th>2011</th>\n      <th>2012</th>\n      <th>2013</th>\n      <th>2014</th>\n      <th>2015</th>\n      <th>Unnamed: 60</th>\n    </tr>\n  </thead>\n  <tbody>\n    <tr>\n      <th>0</th>\n      <td>Aruba</td>\n      <td>ABW</td>\n      <td>CO2 emissions (metric tons per capita)</td>\n      <td>EN.ATM.CO2E.PC</td>\n      <td>NaN</td>\n      <td>NaN</td>\n      <td>NaN</td>\n      <td>NaN</td>\n      <td>NaN</td>\n      <td>NaN</td>\n      <td>...</td>\n      <td>25.613715</td>\n      <td>24.750133</td>\n      <td>24.876706</td>\n      <td>24.182702</td>\n      <td>23.922412</td>\n      <td>NaN</td>\n      <td>NaN</td>\n      <td>NaN</td>\n      <td>NaN</td>\n      <td>NaN</td>\n    </tr>\n    <tr>\n      <th>1</th>\n      <td>Andorra</td>\n      <td>AND</td>\n      <td>CO2 emissions (metric tons per capita)</td>\n      <td>EN.ATM.CO2E.PC</td>\n      <td>NaN</td>\n      <td>NaN</td>\n      <td>NaN</td>\n      <td>NaN</td>\n      <td>NaN</td>\n      <td>NaN</td>\n      <td>...</td>\n      <td>6.350868</td>\n      <td>6.296125</td>\n      <td>6.049173</td>\n      <td>6.124770</td>\n      <td>5.968685</td>\n      <td>NaN</td>\n      <td>NaN</td>\n      <td>NaN</td>\n      <td>NaN</td>\n      <td>NaN</td>\n    </tr>\n    <tr>\n      <th>2</th>\n      <td>Afghanistan</td>\n      <td>AFG</td>\n      <td>CO2 emissions (metric tons per capita)</td>\n      <td>EN.ATM.CO2E.PC</td>\n      <td>0.046068</td>\n      <td>0.053615</td>\n      <td>0.073781</td>\n      <td>0.074251</td>\n      <td>0.086317</td>\n      <td>0.101499</td>\n      <td>...</td>\n      <td>0.088141</td>\n      <td>0.158962</td>\n      <td>0.249074</td>\n      <td>0.302936</td>\n      <td>0.425262</td>\n      <td>NaN</td>\n      <td>NaN</td>\n      <td>NaN</td>\n      <td>NaN</td>\n      <td>NaN</td>\n    </tr>\n  </tbody>\n</table>\n<p>3 rows \u00d7 61 columns</p>\n</div>", 
                        "text/plain": "  Country Name Country Code                          Indicator Name  \\\n0        Aruba          ABW  CO2 emissions (metric tons per capita)   \n1      Andorra          AND  CO2 emissions (metric tons per capita)   \n2  Afghanistan          AFG  CO2 emissions (metric tons per capita)   \n\n   Indicator Code      1960      1961      1962      1963      1964      1965  \\\n0  EN.ATM.CO2E.PC       NaN       NaN       NaN       NaN       NaN       NaN   \n1  EN.ATM.CO2E.PC       NaN       NaN       NaN       NaN       NaN       NaN   \n2  EN.ATM.CO2E.PC  0.046068  0.053615  0.073781  0.074251  0.086317  0.101499   \n\n      ...            2007       2008       2009       2010       2011  2012  \\\n0     ...       25.613715  24.750133  24.876706  24.182702  23.922412   NaN   \n1     ...        6.350868   6.296125   6.049173   6.124770   5.968685   NaN   \n2     ...        0.088141   0.158962   0.249074   0.302936   0.425262   NaN   \n\n   2013  2014  2015  Unnamed: 60  \n0   NaN   NaN   NaN          NaN  \n1   NaN   NaN   NaN          NaN  \n2   NaN   NaN   NaN          NaN  \n\n[3 rows x 61 columns]"
                    }, 
                    "output_type": "execute_result"
                }
            ], 
            "source": "## YOUR CODE BELOW\ndata.head(3)\n"
        }, 
        {
            "source": "#### Print the names of the first and last column names", 
            "cell_type": "markdown", 
            "metadata": {}
        }, 
        {
            "execution_count": 98, 
            "cell_type": "code", 
            "metadata": {}, 
            "outputs": [
                {
                    "output_type": "stream", 
                    "name": "stdout", 
                    "text": "Index(['Country Name', 'Unnamed: 60'], dtype='object')\n"
                }
            ], 
            "source": "## YOUR CODE BELOW\n\n# note : if you want to return several values you need to put a list into the [] block, ie [0] ok [[0,2,4]] ok\nprint(data.columns[[0, -1]])"
        }, 
        {
            "source": "<hr>", 
            "cell_type": "markdown", 
            "metadata": {}
        }, 
        {
            "source": "<h2, align=center>Subsetting the Dataframe</h2>", 
            "cell_type": "markdown", 
            "metadata": {}
        }, 
        {
            "source": "### Select columns", 
            "cell_type": "markdown", 
            "metadata": {}
        }, 
        {
            "source": "#### Select columns by name:", 
            "cell_type": "markdown", 
            "metadata": {}
        }, 
        {
            "execution_count": 99, 
            "cell_type": "code", 
            "metadata": {}, 
            "outputs": [
                {
                    "execution_count": 99, 
                    "metadata": {}, 
                    "data": {
                        "text/plain": "0                               Aruba\n1                             Andorra\n2                         Afghanistan\n3                              Angola\n4                             Albania\n5                          Arab World\n6                United Arab Emirates\n7                           Argentina\n8                             Armenia\n9                      American Samoa\n10                Antigua and Barbuda\n11                          Australia\n12                            Austria\n13                         Azerbaijan\n14                            Burundi\n15                            Belgium\n16                              Benin\n17                       Burkina Faso\n18                         Bangladesh\n19                           Bulgaria\n20                            Bahrain\n21                       Bahamas, The\n22             Bosnia and Herzegovina\n23                            Belarus\n24                             Belize\n25                            Bermuda\n26                            Bolivia\n27                             Brazil\n28                           Barbados\n29                  Brunei Darussalam\n                    ...              \n219                          Thailand\n220                        Tajikistan\n221                      Turkmenistan\n222                       Timor-Leste\n223                             Tonga\n224               Trinidad and Tobago\n225                           Tunisia\n226                            Turkey\n227                            Tuvalu\n228                     Taiwan, China\n229                          Tanzania\n230                            Uganda\n231                           Ukraine\n232               Upper middle income\n233                           Uruguay\n234                     United States\n235                        Uzbekistan\n236    St. Vincent and the Grenadines\n237                     Venezuela, RB\n238             Virgin Islands (U.S.)\n239                           Vietnam\n240                           Vanuatu\n241                West Bank and Gaza\n242                             World\n243                             Samoa\n244                       Yemen, Rep.\n245                      South Africa\n246                  Congo, Dem. Rep.\n247                            Zambia\n248                          Zimbabwe\nName: Country Name, Length: 249, dtype: object"
                    }, 
                    "output_type": "execute_result"
                }
            ], 
            "source": "data['Country Name']"
        }, 
        {
            "source": "#### Select columns by column number:", 
            "cell_type": "markdown", 
            "metadata": {}
        }, 
        {
            "execution_count": 100, 
            "cell_type": "code", 
            "metadata": {}, 
            "outputs": [
                {
                    "execution_count": 100, 
                    "metadata": {}, 
                    "data": {
                        "text/plain": "0                               Aruba\n1                             Andorra\n2                         Afghanistan\n3                              Angola\n4                             Albania\n5                          Arab World\n6                United Arab Emirates\n7                           Argentina\n8                             Armenia\n9                      American Samoa\n10                Antigua and Barbuda\n11                          Australia\n12                            Austria\n13                         Azerbaijan\n14                            Burundi\n15                            Belgium\n16                              Benin\n17                       Burkina Faso\n18                         Bangladesh\n19                           Bulgaria\n20                            Bahrain\n21                       Bahamas, The\n22             Bosnia and Herzegovina\n23                            Belarus\n24                             Belize\n25                            Bermuda\n26                            Bolivia\n27                             Brazil\n28                           Barbados\n29                  Brunei Darussalam\n                    ...              \n219                          Thailand\n220                        Tajikistan\n221                      Turkmenistan\n222                       Timor-Leste\n223                             Tonga\n224               Trinidad and Tobago\n225                           Tunisia\n226                            Turkey\n227                            Tuvalu\n228                     Taiwan, China\n229                          Tanzania\n230                            Uganda\n231                           Ukraine\n232               Upper middle income\n233                           Uruguay\n234                     United States\n235                        Uzbekistan\n236    St. Vincent and the Grenadines\n237                     Venezuela, RB\n238             Virgin Islands (U.S.)\n239                           Vietnam\n240                           Vanuatu\n241                West Bank and Gaza\n242                             World\n243                             Samoa\n244                       Yemen, Rep.\n245                      South Africa\n246                  Congo, Dem. Rep.\n247                            Zambia\n248                          Zimbabwe\nName: Country Name, Length: 249, dtype: object"
                    }, 
                    "output_type": "execute_result"
                }
            ], 
            "source": "data[data.columns[0]]"
        }, 
        {
            "source": "#### Select the last column:", 
            "cell_type": "markdown", 
            "metadata": {}
        }, 
        {
            "execution_count": 101, 
            "cell_type": "code", 
            "metadata": {}, 
            "outputs": [
                {
                    "execution_count": 101, 
                    "metadata": {}, 
                    "data": {
                        "text/plain": "0     NaN\n1     NaN\n2     NaN\n3     NaN\n4     NaN\n5     NaN\n6     NaN\n7     NaN\n8     NaN\n9     NaN\n10    NaN\n11    NaN\n12    NaN\n13    NaN\n14    NaN\n15    NaN\n16    NaN\n17    NaN\n18    NaN\n19    NaN\n20    NaN\n21    NaN\n22    NaN\n23    NaN\n24    NaN\n25    NaN\n26    NaN\n27    NaN\n28    NaN\n29    NaN\n       ..\n219   NaN\n220   NaN\n221   NaN\n222   NaN\n223   NaN\n224   NaN\n225   NaN\n226   NaN\n227   NaN\n228   NaN\n229   NaN\n230   NaN\n231   NaN\n232   NaN\n233   NaN\n234   NaN\n235   NaN\n236   NaN\n237   NaN\n238   NaN\n239   NaN\n240   NaN\n241   NaN\n242   NaN\n243   NaN\n244   NaN\n245   NaN\n246   NaN\n247   NaN\n248   NaN\nName: Unnamed: 60, Length: 249, dtype: float64"
                    }, 
                    "output_type": "execute_result"
                }
            ], 
            "source": "data[data.columns[-1]]"
        }, 
        {
            "source": "#### Subset Multiple Columns by Name", 
            "cell_type": "markdown", 
            "metadata": {}
        }, 
        {
            "execution_count": 102, 
            "cell_type": "code", 
            "metadata": {
                "scrolled": true
            }, 
            "outputs": [
                {
                    "execution_count": 102, 
                    "metadata": {}, 
                    "data": {
                        "text/html": "<div>\n<style scoped>\n    .dataframe tbody tr th:only-of-type {\n        vertical-align: middle;\n    }\n\n    .dataframe tbody tr th {\n        vertical-align: top;\n    }\n\n    .dataframe thead th {\n        text-align: right;\n    }\n</style>\n<table border=\"1\" class=\"dataframe\">\n  <thead>\n    <tr style=\"text-align: right;\">\n      <th></th>\n      <th>Country Name</th>\n      <th>Country Code</th>\n    </tr>\n  </thead>\n  <tbody>\n    <tr>\n      <th>0</th>\n      <td>Aruba</td>\n      <td>ABW</td>\n    </tr>\n    <tr>\n      <th>1</th>\n      <td>Andorra</td>\n      <td>AND</td>\n    </tr>\n    <tr>\n      <th>2</th>\n      <td>Afghanistan</td>\n      <td>AFG</td>\n    </tr>\n    <tr>\n      <th>3</th>\n      <td>Angola</td>\n      <td>AGO</td>\n    </tr>\n    <tr>\n      <th>4</th>\n      <td>Albania</td>\n      <td>ALB</td>\n    </tr>\n    <tr>\n      <th>5</th>\n      <td>Arab World</td>\n      <td>ARB</td>\n    </tr>\n    <tr>\n      <th>6</th>\n      <td>United Arab Emirates</td>\n      <td>ARE</td>\n    </tr>\n    <tr>\n      <th>7</th>\n      <td>Argentina</td>\n      <td>ARG</td>\n    </tr>\n    <tr>\n      <th>8</th>\n      <td>Armenia</td>\n      <td>ARM</td>\n    </tr>\n    <tr>\n      <th>9</th>\n      <td>American Samoa</td>\n      <td>ASM</td>\n    </tr>\n    <tr>\n      <th>10</th>\n      <td>Antigua and Barbuda</td>\n      <td>ATG</td>\n    </tr>\n    <tr>\n      <th>11</th>\n      <td>Australia</td>\n      <td>AUS</td>\n    </tr>\n    <tr>\n      <th>12</th>\n      <td>Austria</td>\n      <td>AUT</td>\n    </tr>\n    <tr>\n      <th>13</th>\n      <td>Azerbaijan</td>\n      <td>AZE</td>\n    </tr>\n    <tr>\n      <th>14</th>\n      <td>Burundi</td>\n      <td>BDI</td>\n    </tr>\n    <tr>\n      <th>15</th>\n      <td>Belgium</td>\n      <td>BEL</td>\n    </tr>\n    <tr>\n      <th>16</th>\n      <td>Benin</td>\n      <td>BEN</td>\n    </tr>\n    <tr>\n      <th>17</th>\n      <td>Burkina Faso</td>\n      <td>BFA</td>\n    </tr>\n    <tr>\n      <th>18</th>\n      <td>Bangladesh</td>\n      <td>BGD</td>\n    </tr>\n    <tr>\n      <th>19</th>\n      <td>Bulgaria</td>\n      <td>BGR</td>\n    </tr>\n    <tr>\n      <th>20</th>\n      <td>Bahrain</td>\n      <td>BHR</td>\n    </tr>\n    <tr>\n      <th>21</th>\n      <td>Bahamas, The</td>\n      <td>BHS</td>\n    </tr>\n    <tr>\n      <th>22</th>\n      <td>Bosnia and Herzegovina</td>\n      <td>BIH</td>\n    </tr>\n    <tr>\n      <th>23</th>\n      <td>Belarus</td>\n      <td>BLR</td>\n    </tr>\n    <tr>\n      <th>24</th>\n      <td>Belize</td>\n      <td>BLZ</td>\n    </tr>\n    <tr>\n      <th>25</th>\n      <td>Bermuda</td>\n      <td>BMU</td>\n    </tr>\n    <tr>\n      <th>26</th>\n      <td>Bolivia</td>\n      <td>BOL</td>\n    </tr>\n    <tr>\n      <th>27</th>\n      <td>Brazil</td>\n      <td>BRA</td>\n    </tr>\n    <tr>\n      <th>28</th>\n      <td>Barbados</td>\n      <td>BRB</td>\n    </tr>\n    <tr>\n      <th>29</th>\n      <td>Brunei Darussalam</td>\n      <td>BRN</td>\n    </tr>\n    <tr>\n      <th>...</th>\n      <td>...</td>\n      <td>...</td>\n    </tr>\n    <tr>\n      <th>219</th>\n      <td>Thailand</td>\n      <td>THA</td>\n    </tr>\n    <tr>\n      <th>220</th>\n      <td>Tajikistan</td>\n      <td>TJK</td>\n    </tr>\n    <tr>\n      <th>221</th>\n      <td>Turkmenistan</td>\n      <td>TKM</td>\n    </tr>\n    <tr>\n      <th>222</th>\n      <td>Timor-Leste</td>\n      <td>TLS</td>\n    </tr>\n    <tr>\n      <th>223</th>\n      <td>Tonga</td>\n      <td>TON</td>\n    </tr>\n    <tr>\n      <th>224</th>\n      <td>Trinidad and Tobago</td>\n      <td>TTO</td>\n    </tr>\n    <tr>\n      <th>225</th>\n      <td>Tunisia</td>\n      <td>TUN</td>\n    </tr>\n    <tr>\n      <th>226</th>\n      <td>Turkey</td>\n      <td>TUR</td>\n    </tr>\n    <tr>\n      <th>227</th>\n      <td>Tuvalu</td>\n      <td>TUV</td>\n    </tr>\n    <tr>\n      <th>228</th>\n      <td>Taiwan, China</td>\n      <td>TWN</td>\n    </tr>\n    <tr>\n      <th>229</th>\n      <td>Tanzania</td>\n      <td>TZA</td>\n    </tr>\n    <tr>\n      <th>230</th>\n      <td>Uganda</td>\n      <td>UGA</td>\n    </tr>\n    <tr>\n      <th>231</th>\n      <td>Ukraine</td>\n      <td>UKR</td>\n    </tr>\n    <tr>\n      <th>232</th>\n      <td>Upper middle income</td>\n      <td>UMC</td>\n    </tr>\n    <tr>\n      <th>233</th>\n      <td>Uruguay</td>\n      <td>URY</td>\n    </tr>\n    <tr>\n      <th>234</th>\n      <td>United States</td>\n      <td>USA</td>\n    </tr>\n    <tr>\n      <th>235</th>\n      <td>Uzbekistan</td>\n      <td>UZB</td>\n    </tr>\n    <tr>\n      <th>236</th>\n      <td>St. Vincent and the Grenadines</td>\n      <td>VCT</td>\n    </tr>\n    <tr>\n      <th>237</th>\n      <td>Venezuela, RB</td>\n      <td>VEN</td>\n    </tr>\n    <tr>\n      <th>238</th>\n      <td>Virgin Islands (U.S.)</td>\n      <td>VIR</td>\n    </tr>\n    <tr>\n      <th>239</th>\n      <td>Vietnam</td>\n      <td>VNM</td>\n    </tr>\n    <tr>\n      <th>240</th>\n      <td>Vanuatu</td>\n      <td>VUT</td>\n    </tr>\n    <tr>\n      <th>241</th>\n      <td>West Bank and Gaza</td>\n      <td>PSE</td>\n    </tr>\n    <tr>\n      <th>242</th>\n      <td>World</td>\n      <td>WLD</td>\n    </tr>\n    <tr>\n      <th>243</th>\n      <td>Samoa</td>\n      <td>WSM</td>\n    </tr>\n    <tr>\n      <th>244</th>\n      <td>Yemen, Rep.</td>\n      <td>YEM</td>\n    </tr>\n    <tr>\n      <th>245</th>\n      <td>South Africa</td>\n      <td>ZAF</td>\n    </tr>\n    <tr>\n      <th>246</th>\n      <td>Congo, Dem. Rep.</td>\n      <td>COD</td>\n    </tr>\n    <tr>\n      <th>247</th>\n      <td>Zambia</td>\n      <td>ZMB</td>\n    </tr>\n    <tr>\n      <th>248</th>\n      <td>Zimbabwe</td>\n      <td>ZWE</td>\n    </tr>\n  </tbody>\n</table>\n<p>249 rows \u00d7 2 columns</p>\n</div>", 
                        "text/plain": "                       Country Name Country Code\n0                             Aruba          ABW\n1                           Andorra          AND\n2                       Afghanistan          AFG\n3                            Angola          AGO\n4                           Albania          ALB\n5                        Arab World          ARB\n6              United Arab Emirates          ARE\n7                         Argentina          ARG\n8                           Armenia          ARM\n9                    American Samoa          ASM\n10              Antigua and Barbuda          ATG\n11                        Australia          AUS\n12                          Austria          AUT\n13                       Azerbaijan          AZE\n14                          Burundi          BDI\n15                          Belgium          BEL\n16                            Benin          BEN\n17                     Burkina Faso          BFA\n18                       Bangladesh          BGD\n19                         Bulgaria          BGR\n20                          Bahrain          BHR\n21                     Bahamas, The          BHS\n22           Bosnia and Herzegovina          BIH\n23                          Belarus          BLR\n24                           Belize          BLZ\n25                          Bermuda          BMU\n26                          Bolivia          BOL\n27                           Brazil          BRA\n28                         Barbados          BRB\n29                Brunei Darussalam          BRN\n..                              ...          ...\n219                        Thailand          THA\n220                      Tajikistan          TJK\n221                    Turkmenistan          TKM\n222                     Timor-Leste          TLS\n223                           Tonga          TON\n224             Trinidad and Tobago          TTO\n225                         Tunisia          TUN\n226                          Turkey          TUR\n227                          Tuvalu          TUV\n228                   Taiwan, China          TWN\n229                        Tanzania          TZA\n230                          Uganda          UGA\n231                         Ukraine          UKR\n232             Upper middle income          UMC\n233                         Uruguay          URY\n234                   United States          USA\n235                      Uzbekistan          UZB\n236  St. Vincent and the Grenadines          VCT\n237                   Venezuela, RB          VEN\n238           Virgin Islands (U.S.)          VIR\n239                         Vietnam          VNM\n240                         Vanuatu          VUT\n241              West Bank and Gaza          PSE\n242                           World          WLD\n243                           Samoa          WSM\n244                     Yemen, Rep.          YEM\n245                    South Africa          ZAF\n246                Congo, Dem. Rep.          COD\n247                          Zambia          ZMB\n248                        Zimbabwe          ZWE\n\n[249 rows x 2 columns]"
                    }, 
                    "output_type": "execute_result"
                }
            ], 
            "source": "data[['Country Name', 'Country Code']]"
        }, 
        {
            "source": "### Select rows", 
            "cell_type": "markdown", 
            "metadata": {}
        }, 
        {
            "source": "A few different ways:", 
            "cell_type": "markdown", 
            "metadata": {}
        }, 
        {
            "execution_count": 103, 
            "cell_type": "code", 
            "metadata": {
                "render": true
            }, 
            "outputs": [
                {
                    "execution_count": 103, 
                    "metadata": {}, 
                    "data": {
                        "text/html": "<div>\n<style scoped>\n    .dataframe tbody tr th:only-of-type {\n        vertical-align: middle;\n    }\n\n    .dataframe tbody tr th {\n        vertical-align: top;\n    }\n\n    .dataframe thead th {\n        text-align: right;\n    }\n</style>\n<table border=\"1\" class=\"dataframe\">\n  <thead>\n    <tr style=\"text-align: right;\">\n      <th></th>\n      <th>Country Name</th>\n      <th>Country Code</th>\n      <th>Indicator Name</th>\n      <th>Indicator Code</th>\n      <th>1960</th>\n      <th>1961</th>\n      <th>1962</th>\n      <th>1963</th>\n      <th>1964</th>\n      <th>1965</th>\n      <th>...</th>\n      <th>2007</th>\n      <th>2008</th>\n      <th>2009</th>\n      <th>2010</th>\n      <th>2011</th>\n      <th>2012</th>\n      <th>2013</th>\n      <th>2014</th>\n      <th>2015</th>\n      <th>Unnamed: 60</th>\n    </tr>\n  </thead>\n  <tbody>\n    <tr>\n      <th>0</th>\n      <td>Aruba</td>\n      <td>ABW</td>\n      <td>CO2 emissions (metric tons per capita)</td>\n      <td>EN.ATM.CO2E.PC</td>\n      <td>NaN</td>\n      <td>NaN</td>\n      <td>NaN</td>\n      <td>NaN</td>\n      <td>NaN</td>\n      <td>NaN</td>\n      <td>...</td>\n      <td>25.613715</td>\n      <td>24.750133</td>\n      <td>24.876706</td>\n      <td>24.182702</td>\n      <td>23.922412</td>\n      <td>NaN</td>\n      <td>NaN</td>\n      <td>NaN</td>\n      <td>NaN</td>\n      <td>NaN</td>\n    </tr>\n    <tr>\n      <th>1</th>\n      <td>Andorra</td>\n      <td>AND</td>\n      <td>CO2 emissions (metric tons per capita)</td>\n      <td>EN.ATM.CO2E.PC</td>\n      <td>NaN</td>\n      <td>NaN</td>\n      <td>NaN</td>\n      <td>NaN</td>\n      <td>NaN</td>\n      <td>NaN</td>\n      <td>...</td>\n      <td>6.350868</td>\n      <td>6.296125</td>\n      <td>6.049173</td>\n      <td>6.124770</td>\n      <td>5.968685</td>\n      <td>NaN</td>\n      <td>NaN</td>\n      <td>NaN</td>\n      <td>NaN</td>\n      <td>NaN</td>\n    </tr>\n  </tbody>\n</table>\n<p>2 rows \u00d7 61 columns</p>\n</div>", 
                        "text/plain": "  Country Name Country Code                          Indicator Name  \\\n0        Aruba          ABW  CO2 emissions (metric tons per capita)   \n1      Andorra          AND  CO2 emissions (metric tons per capita)   \n\n   Indicator Code  1960  1961  1962  1963  1964  1965     ...            2007  \\\n0  EN.ATM.CO2E.PC   NaN   NaN   NaN   NaN   NaN   NaN     ...       25.613715   \n1  EN.ATM.CO2E.PC   NaN   NaN   NaN   NaN   NaN   NaN     ...        6.350868   \n\n        2008       2009       2010       2011  2012  2013  2014  2015  \\\n0  24.750133  24.876706  24.182702  23.922412   NaN   NaN   NaN   NaN   \n1   6.296125   6.049173   6.124770   5.968685   NaN   NaN   NaN   NaN   \n\n   Unnamed: 60  \n0          NaN  \n1          NaN  \n\n[2 rows x 61 columns]"
                    }, 
                    "output_type": "execute_result"
                }
            ], 
            "source": "data[0:2] #First and second row"
        }, 
        {
            "execution_count": 104, 
            "cell_type": "code", 
            "metadata": {}, 
            "outputs": [
                {
                    "execution_count": 104, 
                    "metadata": {}, 
                    "data": {
                        "text/html": "<div>\n<style scoped>\n    .dataframe tbody tr th:only-of-type {\n        vertical-align: middle;\n    }\n\n    .dataframe tbody tr th {\n        vertical-align: top;\n    }\n\n    .dataframe thead th {\n        text-align: right;\n    }\n</style>\n<table border=\"1\" class=\"dataframe\">\n  <thead>\n    <tr style=\"text-align: right;\">\n      <th></th>\n      <th>Country Name</th>\n      <th>Country Code</th>\n      <th>Indicator Name</th>\n      <th>Indicator Code</th>\n      <th>1960</th>\n      <th>1961</th>\n      <th>1962</th>\n      <th>1963</th>\n      <th>1964</th>\n      <th>1965</th>\n      <th>...</th>\n      <th>2007</th>\n      <th>2008</th>\n      <th>2009</th>\n      <th>2010</th>\n      <th>2011</th>\n      <th>2012</th>\n      <th>2013</th>\n      <th>2014</th>\n      <th>2015</th>\n      <th>Unnamed: 60</th>\n    </tr>\n  </thead>\n  <tbody>\n    <tr>\n      <th>0</th>\n      <td>Aruba</td>\n      <td>ABW</td>\n      <td>CO2 emissions (metric tons per capita)</td>\n      <td>EN.ATM.CO2E.PC</td>\n      <td>NaN</td>\n      <td>NaN</td>\n      <td>NaN</td>\n      <td>NaN</td>\n      <td>NaN</td>\n      <td>NaN</td>\n      <td>...</td>\n      <td>25.613715</td>\n      <td>24.750133</td>\n      <td>24.876706</td>\n      <td>24.182702</td>\n      <td>23.922412</td>\n      <td>NaN</td>\n      <td>NaN</td>\n      <td>NaN</td>\n      <td>NaN</td>\n      <td>NaN</td>\n    </tr>\n    <tr>\n      <th>1</th>\n      <td>Andorra</td>\n      <td>AND</td>\n      <td>CO2 emissions (metric tons per capita)</td>\n      <td>EN.ATM.CO2E.PC</td>\n      <td>NaN</td>\n      <td>NaN</td>\n      <td>NaN</td>\n      <td>NaN</td>\n      <td>NaN</td>\n      <td>NaN</td>\n      <td>...</td>\n      <td>6.350868</td>\n      <td>6.296125</td>\n      <td>6.049173</td>\n      <td>6.124770</td>\n      <td>5.968685</td>\n      <td>NaN</td>\n      <td>NaN</td>\n      <td>NaN</td>\n      <td>NaN</td>\n      <td>NaN</td>\n    </tr>\n  </tbody>\n</table>\n<p>2 rows \u00d7 61 columns</p>\n</div>", 
                        "text/plain": "  Country Name Country Code                          Indicator Name  \\\n0        Aruba          ABW  CO2 emissions (metric tons per capita)   \n1      Andorra          AND  CO2 emissions (metric tons per capita)   \n\n   Indicator Code  1960  1961  1962  1963  1964  1965     ...            2007  \\\n0  EN.ATM.CO2E.PC   NaN   NaN   NaN   NaN   NaN   NaN     ...       25.613715   \n1  EN.ATM.CO2E.PC   NaN   NaN   NaN   NaN   NaN   NaN     ...        6.350868   \n\n        2008       2009       2010       2011  2012  2013  2014  2015  \\\n0  24.750133  24.876706  24.182702  23.922412   NaN   NaN   NaN   NaN   \n1   6.296125   6.049173   6.124770   5.968685   NaN   NaN   NaN   NaN   \n\n   Unnamed: 60  \n0          NaN  \n1          NaN  \n\n[2 rows x 61 columns]"
                    }, 
                    "output_type": "execute_result"
                }
            ], 
            "source": "data[:2] "
        }, 
        {
            "execution_count": 109, 
            "cell_type": "code", 
            "metadata": {
                "scrolled": false
            }, 
            "outputs": [
                {
                    "output_type": "stream", 
                    "name": "stdout", 
                    "text": "  Country Name Country Code\n0        Aruba          ABW\n1      Andorra          AND\n"
                }, 
                {
                    "execution_count": 109, 
                    "metadata": {}, 
                    "data": {
                        "text/html": "<div>\n<style scoped>\n    .dataframe tbody tr th:only-of-type {\n        vertical-align: middle;\n    }\n\n    .dataframe tbody tr th {\n        vertical-align: top;\n    }\n\n    .dataframe thead th {\n        text-align: right;\n    }\n</style>\n<table border=\"1\" class=\"dataframe\">\n  <thead>\n    <tr style=\"text-align: right;\">\n      <th></th>\n      <th>Country Name</th>\n      <th>Country Code</th>\n      <th>Indicator Name</th>\n      <th>Indicator Code</th>\n      <th>1960</th>\n      <th>1961</th>\n      <th>1962</th>\n      <th>1963</th>\n      <th>1964</th>\n      <th>1965</th>\n      <th>...</th>\n      <th>2007</th>\n      <th>2008</th>\n      <th>2009</th>\n      <th>2010</th>\n      <th>2011</th>\n      <th>2012</th>\n      <th>2013</th>\n      <th>2014</th>\n      <th>2015</th>\n      <th>Unnamed: 60</th>\n    </tr>\n  </thead>\n  <tbody>\n    <tr>\n      <th>0</th>\n      <td>Aruba</td>\n      <td>ABW</td>\n      <td>CO2 emissions (metric tons per capita)</td>\n      <td>EN.ATM.CO2E.PC</td>\n      <td>NaN</td>\n      <td>NaN</td>\n      <td>NaN</td>\n      <td>NaN</td>\n      <td>NaN</td>\n      <td>NaN</td>\n      <td>...</td>\n      <td>25.613715</td>\n      <td>24.750133</td>\n      <td>24.876706</td>\n      <td>24.182702</td>\n      <td>23.922412</td>\n      <td>NaN</td>\n      <td>NaN</td>\n      <td>NaN</td>\n      <td>NaN</td>\n      <td>NaN</td>\n    </tr>\n    <tr>\n      <th>2</th>\n      <td>Afghanistan</td>\n      <td>AFG</td>\n      <td>CO2 emissions (metric tons per capita)</td>\n      <td>EN.ATM.CO2E.PC</td>\n      <td>0.046068</td>\n      <td>0.053615</td>\n      <td>0.073781</td>\n      <td>0.074251</td>\n      <td>0.086317</td>\n      <td>0.101499</td>\n      <td>...</td>\n      <td>0.088141</td>\n      <td>0.158962</td>\n      <td>0.249074</td>\n      <td>0.302936</td>\n      <td>0.425262</td>\n      <td>NaN</td>\n      <td>NaN</td>\n      <td>NaN</td>\n      <td>NaN</td>\n      <td>NaN</td>\n    </tr>\n  </tbody>\n</table>\n<p>2 rows \u00d7 61 columns</p>\n</div>", 
                        "text/plain": "  Country Name Country Code                          Indicator Name  \\\n0        Aruba          ABW  CO2 emissions (metric tons per capita)   \n2  Afghanistan          AFG  CO2 emissions (metric tons per capita)   \n\n   Indicator Code      1960      1961      1962      1963      1964      1965  \\\n0  EN.ATM.CO2E.PC       NaN       NaN       NaN       NaN       NaN       NaN   \n2  EN.ATM.CO2E.PC  0.046068  0.053615  0.073781  0.074251  0.086317  0.101499   \n\n      ...            2007       2008       2009       2010       2011  2012  \\\n0     ...       25.613715  24.750133  24.876706  24.182702  23.922412   NaN   \n2     ...        0.088141   0.158962   0.249074   0.302936   0.425262   NaN   \n\n   2013  2014  2015  Unnamed: 60  \n0   NaN   NaN   NaN          NaN  \n2   NaN   NaN   NaN          NaN  \n\n[2 rows x 61 columns]"
                    }, 
                    "output_type": "execute_result"
                }
            ], 
            "source": "print(data[0:2][data.columns[0:2]])\n\ndata.iloc[[0,2]] #First and third rows"
        }, 
        {
            "execution_count": 107, 
            "cell_type": "code", 
            "metadata": {}, 
            "outputs": [
                {
                    "execution_count": 107, 
                    "metadata": {}, 
                    "data": {
                        "text/plain": "0      Aruba\n1    Andorra\nName: Country Name, dtype: object"
                    }, 
                    "output_type": "execute_result"
                }
            ], 
            "source": "data[0:2]['Country Name']"
        }, 
        {
            "source": "#### Select the last row", 
            "cell_type": "markdown", 
            "metadata": {}
        }, 
        {
            "execution_count": 111, 
            "cell_type": "code", 
            "metadata": {}, 
            "outputs": [
                {
                    "execution_count": 111, 
                    "metadata": {}, 
                    "data": {
                        "text/plain": "Country Name                                    Zimbabwe\nCountry Code                                         ZWE\nIndicator Name    CO2 emissions (metric tons per capita)\nIndicator Code                            EN.ATM.CO2E.PC\n1960                                                 NaN\n1961                                                 NaN\n1962                                                 NaN\n1963                                                 NaN\n1964                                             1.04537\n1965                                             1.17918\n1966                                             1.32366\n1967                                             1.12296\n1968                                             1.30983\n1969                                             1.34045\n1970                                             1.56786\n1971                                             1.62332\n1972                                              1.4758\n1973                                             1.60897\n1974                                             1.51771\n1975                                             1.34847\n1976                                             1.70522\n1977                                             1.41314\n1978                                             1.36765\n1979                                               1.344\n1980                                              1.3221\n1981                                             1.24607\n1982                                             1.11876\n1983                                             1.27623\n1984                                             1.16352\n1985                                             1.15812\n                                   ...                  \n1987                                             1.59822\n1988                                             1.63192\n1989                                             1.58922\n1990                                             1.47872\n1991                                             1.47013\n1992                                             1.53372\n1993                                             1.43989\n1994                                              1.5375\n1995                                             1.29503\n1996                                              1.2624\n1997                                             1.19468\n1998                                             1.16577\n1999                                             1.27963\n2000                                             1.11096\n2001                                            0.996759\n2002                                            0.940195\n2003                                            0.831911\n2004                                            0.766581\n2005                                            0.825218\n2006                                            0.780721\n2007                                            0.731867\n2008                                            0.569255\n2009                                            0.600521\n2010                                            0.646073\n2011                                            0.691698\n2012                                                 NaN\n2013                                                 NaN\n2014                                                 NaN\n2015                                                 NaN\nUnnamed: 60                                          NaN\nName: 248, Length: 61, dtype: object"
                    }, 
                    "output_type": "execute_result"
                }
            ], 
            "source": "data.iloc[-1]"
        }, 
        {
            "source": "## Conditional Subsetting", 
            "cell_type": "markdown", 
            "metadata": {}
        }, 
        {
            "execution_count": 112, 
            "cell_type": "code", 
            "metadata": {}, 
            "outputs": [], 
            "source": "# use this to get help for any command\n?data.loc"
        }, 
        {
            "source": "Recall: there are various logical operators to create logical statements:", 
            "cell_type": "markdown", 
            "metadata": {}
        }, 
        {
            "execution_count": 115, 
            "cell_type": "code", 
            "metadata": {}, 
            "outputs": [
                {
                    "execution_count": 115, 
                    "metadata": {}, 
                    "data": {
                        "text/plain": "False"
                    }, 
                    "output_type": "execute_result"
                }
            ], 
            "source": "1 == 2"
        }, 
        {
            "execution_count": 116, 
            "cell_type": "code", 
            "metadata": {}, 
            "outputs": [
                {
                    "execution_count": 116, 
                    "metadata": {}, 
                    "data": {
                        "text/plain": "True"
                    }, 
                    "output_type": "execute_result"
                }
            ], 
            "source": "\"Me\" != \"You\""
        }, 
        {
            "execution_count": 117, 
            "cell_type": "code", 
            "metadata": {}, 
            "outputs": [
                {
                    "execution_count": 117, 
                    "metadata": {}, 
                    "data": {
                        "text/plain": "True"
                    }, 
                    "output_type": "execute_result"
                }
            ], 
            "source": "1000 > 1"
        }, 
        {
            "source": "When you apply a logical statement to an array, an array of Trues/Falses are returned, with respect to the logical statement.", 
            "cell_type": "markdown", 
            "metadata": {}
        }, 
        {
            "execution_count": 118, 
            "cell_type": "code", 
            "metadata": {
                "scrolled": true
            }, 
            "outputs": [
                {
                    "execution_count": 118, 
                    "metadata": {}, 
                    "data": {
                        "text/plain": "array([ 1,  2,  3,  4,  5,  6,  7,  8,  9, 10, 11, 12, 13, 14, 15, 16, 17,\n       18, 19, 20, 21, 22, 23, 24, 25, 26, 27, 28, 29, 30, 31, 32, 33, 34,\n       35, 36, 37, 38, 39, 40, 41, 42, 43, 44, 45, 46, 47, 48, 49, 50, 51,\n       52, 53, 54, 55, 56, 57, 58, 59, 60, 61, 62, 63, 64, 65, 66, 67, 68,\n       69, 70, 71, 72, 73, 74, 75, 76, 77, 78, 79, 80, 81, 82, 83, 84, 85,\n       86, 87, 88, 89, 90, 91, 92, 93, 94, 95, 96, 97, 98, 99])"
                    }, 
                    "output_type": "execute_result"
                }
            ], 
            "source": "import numpy as np\nmy_range = np.array(range(1,100))\nmy_range"
        }, 
        {
            "execution_count": 119, 
            "cell_type": "code", 
            "metadata": {}, 
            "outputs": [
                {
                    "execution_count": 119, 
                    "metadata": {}, 
                    "data": {
                        "text/plain": "array([False, False, False, False, False, False, False, False, False,\n       False, False, False, False, False, False, False, False, False,\n       False, False, False, False, False, False, False, False, False,\n       False, False, False, False, False, False, False, False, False,\n       False, False, False, False, False, False, False, False, False,\n       False, False, False, False, False,  True,  True,  True,  True,\n        True,  True,  True,  True,  True,  True,  True,  True,  True,\n        True,  True,  True,  True,  True,  True,  True,  True,  True,\n        True,  True,  True,  True,  True,  True,  True,  True,  True,\n        True,  True,  True,  True,  True,  True,  True,  True,  True,\n        True,  True,  True,  True,  True,  True,  True,  True,  True], dtype=bool)"
                    }, 
                    "output_type": "execute_result"
                }
            ], 
            "source": "result = my_range > 50\nresult"
        }, 
        {
            "source": "Then you can use the array of Trues/Falses to return *only the true values* from the original array.", 
            "cell_type": "markdown", 
            "metadata": {}
        }, 
        {
            "execution_count": 120, 
            "cell_type": "code", 
            "metadata": {
                "scrolled": false
            }, 
            "outputs": [
                {
                    "execution_count": 120, 
                    "metadata": {}, 
                    "data": {
                        "text/plain": "array([51, 52, 53, 54, 55, 56, 57, 58, 59, 60, 61, 62, 63, 64, 65, 66, 67,\n       68, 69, 70, 71, 72, 73, 74, 75, 76, 77, 78, 79, 80, 81, 82, 83, 84,\n       85, 86, 87, 88, 89, 90, 91, 92, 93, 94, 95, 96, 97, 98, 99])"
                    }, 
                    "output_type": "execute_result"
                }
            ], 
            "source": "my_range[result]\n"
        }, 
        {
            "source": "#### Select rows based on a condition", 
            "cell_type": "markdown", 
            "metadata": {}
        }, 
        {
            "execution_count": 121, 
            "cell_type": "code", 
            "metadata": {}, 
            "outputs": [
                {
                    "execution_count": 121, 
                    "metadata": {}, 
                    "data": {
                        "text/plain": "0                               Aruba\n1                             Andorra\n2                         Afghanistan\n3                              Angola\n4                             Albania\n5                          Arab World\n6                United Arab Emirates\n7                           Argentina\n8                             Armenia\n9                      American Samoa\n10                Antigua and Barbuda\n11                          Australia\n12                            Austria\n13                         Azerbaijan\n14                            Burundi\n15                            Belgium\n16                              Benin\n17                       Burkina Faso\n18                         Bangladesh\n19                           Bulgaria\n20                            Bahrain\n21                       Bahamas, The\n22             Bosnia and Herzegovina\n23                            Belarus\n24                             Belize\n25                            Bermuda\n26                            Bolivia\n27                             Brazil\n28                           Barbados\n29                  Brunei Darussalam\n                    ...              \n219                          Thailand\n220                        Tajikistan\n221                      Turkmenistan\n222                       Timor-Leste\n223                             Tonga\n224               Trinidad and Tobago\n225                           Tunisia\n226                            Turkey\n227                            Tuvalu\n228                     Taiwan, China\n229                          Tanzania\n230                            Uganda\n231                           Ukraine\n232               Upper middle income\n233                           Uruguay\n234                     United States\n235                        Uzbekistan\n236    St. Vincent and the Grenadines\n237                     Venezuela, RB\n238             Virgin Islands (U.S.)\n239                           Vietnam\n240                           Vanuatu\n241                West Bank and Gaza\n242                             World\n243                             Samoa\n244                       Yemen, Rep.\n245                      South Africa\n246                  Congo, Dem. Rep.\n247                            Zambia\n248                          Zimbabwe\nName: Country Name, Length: 249, dtype: object"
                    }, 
                    "output_type": "execute_result"
                }
            ], 
            "source": "data['Country Name']"
        }, 
        {
            "execution_count": 122, 
            "cell_type": "code", 
            "metadata": {}, 
            "outputs": [
                {
                    "execution_count": 122, 
                    "metadata": {}, 
                    "data": {
                        "text/plain": "0      False\n1      False\n2      False\n3      False\n4       True\n5      False\n6      False\n7      False\n8      False\n9      False\n10     False\n11     False\n12     False\n13     False\n14     False\n15     False\n16     False\n17     False\n18     False\n19     False\n20     False\n21     False\n22     False\n23     False\n24     False\n25     False\n26     False\n27     False\n28     False\n29     False\n       ...  \n219    False\n220    False\n221    False\n222    False\n223    False\n224    False\n225    False\n226    False\n227    False\n228    False\n229    False\n230    False\n231    False\n232    False\n233    False\n234    False\n235    False\n236    False\n237    False\n238    False\n239    False\n240    False\n241    False\n242    False\n243    False\n244    False\n245    False\n246    False\n247    False\n248    False\nName: Country Name, Length: 249, dtype: bool"
                    }, 
                    "output_type": "execute_result"
                }
            ], 
            "source": "#Data where the country name is Albania. Returns True/False\ndata['Country Name'] == 'Albania'"
        }, 
        {
            "execution_count": 123, 
            "cell_type": "code", 
            "metadata": {}, 
            "outputs": [
                {
                    "execution_count": 123, 
                    "metadata": {}, 
                    "data": {
                        "text/html": "<div>\n<style scoped>\n    .dataframe tbody tr th:only-of-type {\n        vertical-align: middle;\n    }\n\n    .dataframe tbody tr th {\n        vertical-align: top;\n    }\n\n    .dataframe thead th {\n        text-align: right;\n    }\n</style>\n<table border=\"1\" class=\"dataframe\">\n  <thead>\n    <tr style=\"text-align: right;\">\n      <th></th>\n      <th>Country Name</th>\n      <th>Country Code</th>\n      <th>Indicator Name</th>\n      <th>Indicator Code</th>\n      <th>1960</th>\n      <th>1961</th>\n      <th>1962</th>\n      <th>1963</th>\n      <th>1964</th>\n      <th>1965</th>\n      <th>...</th>\n      <th>2007</th>\n      <th>2008</th>\n      <th>2009</th>\n      <th>2010</th>\n      <th>2011</th>\n      <th>2012</th>\n      <th>2013</th>\n      <th>2014</th>\n      <th>2015</th>\n      <th>Unnamed: 60</th>\n    </tr>\n  </thead>\n  <tbody>\n    <tr>\n      <th>38</th>\n      <td>China</td>\n      <td>CHN</td>\n      <td>CO2 emissions (metric tons per capita)</td>\n      <td>EN.ATM.CO2E.PC</td>\n      <td>1.170381</td>\n      <td>0.836047</td>\n      <td>0.661428</td>\n      <td>0.640002</td>\n      <td>0.625646</td>\n      <td>0.665524</td>\n      <td>...</td>\n      <td>5.153564</td>\n      <td>5.311152</td>\n      <td>5.778143</td>\n      <td>6.172489</td>\n      <td>6.710302</td>\n      <td>NaN</td>\n      <td>NaN</td>\n      <td>NaN</td>\n      <td>NaN</td>\n      <td>NaN</td>\n    </tr>\n  </tbody>\n</table>\n<p>1 rows \u00d7 61 columns</p>\n</div>", 
                        "text/plain": "   Country Name Country Code                          Indicator Name  \\\n38        China          CHN  CO2 emissions (metric tons per capita)   \n\n    Indicator Code      1960      1961      1962      1963      1964  \\\n38  EN.ATM.CO2E.PC  1.170381  0.836047  0.661428  0.640002  0.625646   \n\n        1965     ...           2007      2008      2009      2010      2011  \\\n38  0.665524     ...       5.153564  5.311152  5.778143  6.172489  6.710302   \n\n    2012  2013  2014  2015  Unnamed: 60  \n38   NaN   NaN   NaN   NaN          NaN  \n\n[1 rows x 61 columns]"
                    }, 
                    "output_type": "execute_result"
                }
            ], 
            "source": "data[data['Country Code'] == 'CHN'] #Subset based on condition"
        }, 
        {
            "source": "#### Select rows based on multiple conditions", 
            "cell_type": "markdown", 
            "metadata": {}
        }, 
        {
            "execution_count": 124, 
            "cell_type": "code", 
            "metadata": {}, 
            "outputs": [
                {
                    "execution_count": 124, 
                    "metadata": {}, 
                    "data": {
                        "text/html": "<div>\n<style scoped>\n    .dataframe tbody tr th:only-of-type {\n        vertical-align: middle;\n    }\n\n    .dataframe tbody tr th {\n        vertical-align: top;\n    }\n\n    .dataframe thead th {\n        text-align: right;\n    }\n</style>\n<table border=\"1\" class=\"dataframe\">\n  <thead>\n    <tr style=\"text-align: right;\">\n      <th></th>\n      <th>Country Name</th>\n      <th>Country Code</th>\n      <th>Indicator Name</th>\n      <th>Indicator Code</th>\n      <th>1960</th>\n      <th>1961</th>\n      <th>1962</th>\n      <th>1963</th>\n      <th>1964</th>\n      <th>1965</th>\n      <th>...</th>\n      <th>2007</th>\n      <th>2008</th>\n      <th>2009</th>\n      <th>2010</th>\n      <th>2011</th>\n      <th>2012</th>\n      <th>2013</th>\n      <th>2014</th>\n      <th>2015</th>\n      <th>Unnamed: 60</th>\n    </tr>\n  </thead>\n  <tbody>\n    <tr>\n      <th>38</th>\n      <td>China</td>\n      <td>CHN</td>\n      <td>CO2 emissions (metric tons per capita)</td>\n      <td>EN.ATM.CO2E.PC</td>\n      <td>1.170381</td>\n      <td>0.836047</td>\n      <td>0.661428</td>\n      <td>0.640002</td>\n      <td>0.625646</td>\n      <td>0.665524</td>\n      <td>...</td>\n      <td>5.153564</td>\n      <td>5.311152</td>\n      <td>5.778143</td>\n      <td>6.172489</td>\n      <td>6.710302</td>\n      <td>NaN</td>\n      <td>NaN</td>\n      <td>NaN</td>\n      <td>NaN</td>\n      <td>NaN</td>\n    </tr>\n  </tbody>\n</table>\n<p>1 rows \u00d7 61 columns</p>\n</div>", 
                        "text/plain": "   Country Name Country Code                          Indicator Name  \\\n38        China          CHN  CO2 emissions (metric tons per capita)   \n\n    Indicator Code      1960      1961      1962      1963      1964  \\\n38  EN.ATM.CO2E.PC  1.170381  0.836047  0.661428  0.640002  0.625646   \n\n        1965     ...           2007      2008      2009      2010      2011  \\\n38  0.665524     ...       5.153564  5.311152  5.778143  6.172489  6.710302   \n\n    2012  2013  2014  2015  Unnamed: 60  \n38   NaN   NaN   NaN   NaN          NaN  \n\n[1 rows x 61 columns]"
                    }, 
                    "output_type": "execute_result"
                }
            ], 
            "source": "data[(data['Country Name'] == 'China') & (data['Country Code'] == 'CHN')]"
        }, 
        {
            "source": "#### Why does the following return no hits?", 
            "cell_type": "markdown", 
            "metadata": {}
        }, 
        {
            "execution_count": 128, 
            "cell_type": "code", 
            "metadata": {}, 
            "outputs": [
                {
                    "execution_count": 128, 
                    "metadata": {}, 
                    "data": {
                        "text/html": "<div>\n<style scoped>\n    .dataframe tbody tr th:only-of-type {\n        vertical-align: middle;\n    }\n\n    .dataframe tbody tr th {\n        vertical-align: top;\n    }\n\n    .dataframe thead th {\n        text-align: right;\n    }\n</style>\n<table border=\"1\" class=\"dataframe\">\n  <thead>\n    <tr style=\"text-align: right;\">\n      <th></th>\n      <th>Country Name</th>\n      <th>Country Code</th>\n      <th>Indicator Name</th>\n      <th>Indicator Code</th>\n      <th>1960</th>\n      <th>1961</th>\n      <th>1962</th>\n      <th>1963</th>\n      <th>1964</th>\n      <th>1965</th>\n      <th>...</th>\n      <th>2007</th>\n      <th>2008</th>\n      <th>2009</th>\n      <th>2010</th>\n      <th>2011</th>\n      <th>2012</th>\n      <th>2013</th>\n      <th>2014</th>\n      <th>2015</th>\n      <th>Unnamed: 60</th>\n    </tr>\n  </thead>\n  <tbody>\n    <tr>\n      <th>33</th>\n      <td>Canada</td>\n      <td>CAN</td>\n      <td>CO2 emissions (metric tons per capita)</td>\n      <td>EN.ATM.CO2E.PC</td>\n      <td>10.770847</td>\n      <td>10.627898</td>\n      <td>11.130627</td>\n      <td>11.132102</td>\n      <td>12.305370</td>\n      <td>12.814001</td>\n      <td>...</td>\n      <td>17.051900</td>\n      <td>16.366165</td>\n      <td>15.089098</td>\n      <td>14.589054</td>\n      <td>14.135813</td>\n      <td>NaN</td>\n      <td>NaN</td>\n      <td>NaN</td>\n      <td>NaN</td>\n      <td>NaN</td>\n    </tr>\n    <tr>\n      <th>38</th>\n      <td>China</td>\n      <td>CHN</td>\n      <td>CO2 emissions (metric tons per capita)</td>\n      <td>EN.ATM.CO2E.PC</td>\n      <td>1.170381</td>\n      <td>0.836047</td>\n      <td>0.661428</td>\n      <td>0.640002</td>\n      <td>0.625646</td>\n      <td>0.665524</td>\n      <td>...</td>\n      <td>5.153564</td>\n      <td>5.311152</td>\n      <td>5.778143</td>\n      <td>6.172489</td>\n      <td>6.710302</td>\n      <td>NaN</td>\n      <td>NaN</td>\n      <td>NaN</td>\n      <td>NaN</td>\n      <td>NaN</td>\n    </tr>\n  </tbody>\n</table>\n<p>2 rows \u00d7 61 columns</p>\n</div>", 
                        "text/plain": "   Country Name Country Code                          Indicator Name  \\\n33       Canada          CAN  CO2 emissions (metric tons per capita)   \n38        China          CHN  CO2 emissions (metric tons per capita)   \n\n    Indicator Code       1960       1961       1962       1963       1964  \\\n33  EN.ATM.CO2E.PC  10.770847  10.627898  11.130627  11.132102  12.305370   \n38  EN.ATM.CO2E.PC   1.170381   0.836047   0.661428   0.640002   0.625646   \n\n         1965     ...            2007       2008       2009       2010  \\\n33  12.814001     ...       17.051900  16.366165  15.089098  14.589054   \n38   0.665524     ...        5.153564   5.311152   5.778143   6.172489   \n\n         2011  2012  2013  2014  2015  Unnamed: 60  \n33  14.135813   NaN   NaN   NaN   NaN          NaN  \n38   6.710302   NaN   NaN   NaN   NaN          NaN  \n\n[2 rows x 61 columns]"
                    }, 
                    "output_type": "execute_result"
                }
            ], 
            "source": "data[(data['Country Name'] == 'Canada') & (data['Country Code'] == 'CHN')]\ndata[(data['Country Name'] == 'Canada') | (data['Country Code'] == 'CHN')]"
        }, 
        {
            "source": "### Select data by row and column", 
            "cell_type": "markdown", 
            "metadata": {}
        }, 
        {
            "source": "What does the following do?", 
            "cell_type": "markdown", 
            "metadata": {}
        }, 
        {
            "execution_count": 130, 
            "cell_type": "code", 
            "metadata": {}, 
            "outputs": [
                {
                    "execution_count": 130, 
                    "metadata": {}, 
                    "data": {
                        "text/html": "<div>\n<style scoped>\n    .dataframe tbody tr th:only-of-type {\n        vertical-align: middle;\n    }\n\n    .dataframe tbody tr th {\n        vertical-align: top;\n    }\n\n    .dataframe thead th {\n        text-align: right;\n    }\n</style>\n<table border=\"1\" class=\"dataframe\">\n  <thead>\n    <tr style=\"text-align: right;\">\n      <th></th>\n      <th>Country Name</th>\n      <th>Country Code</th>\n      <th>2010</th>\n    </tr>\n  </thead>\n  <tbody>\n    <tr>\n      <th>16</th>\n      <td>Benin</td>\n      <td>BEN</td>\n      <td>0.541771</td>\n    </tr>\n    <tr>\n      <th>17</th>\n      <td>Burkina Faso</td>\n      <td>BFA</td>\n      <td>0.107673</td>\n    </tr>\n    <tr>\n      <th>18</th>\n      <td>Bangladesh</td>\n      <td>BGD</td>\n      <td>0.370360</td>\n    </tr>\n    <tr>\n      <th>19</th>\n      <td>Bulgaria</td>\n      <td>BGR</td>\n      <td>5.966884</td>\n    </tr>\n    <tr>\n      <th>20</th>\n      <td>Bahrain</td>\n      <td>BHR</td>\n      <td>18.435025</td>\n    </tr>\n  </tbody>\n</table>\n</div>", 
                        "text/plain": "    Country Name Country Code       2010\n16         Benin          BEN   0.541771\n17  Burkina Faso          BFA   0.107673\n18    Bangladesh          BGD   0.370360\n19      Bulgaria          BGR   5.966884\n20       Bahrain          BHR  18.435025"
                    }, 
                    "output_type": "execute_result"
                }
            ], 
            "source": "data[['Country Name', 'Country Code', '2010']][16:21]"
        }, 
        {
            "source": "<hr>", 
            "cell_type": "markdown", 
            "metadata": {}
        }, 
        {
            "source": "## Review Question", 
            "cell_type": "markdown", 
            "metadata": {}
        }, 
        {
            "source": "### <span style=\"color: red\">YOUR TURN:</span> \n<h3>Find the CO2 Emission per capita for France and Germany in 2010 and 2011</h3>", 
            "cell_type": "markdown", 
            "metadata": {}
        }, 
        {
            "source": "Your output should look like:\n\n<img src = https://ibm.box.com/shared/static/23drzeu5h2uydwhb0un9qa4jq9yzrjbi.png, width = 300>", 
            "cell_type": "markdown", 
            "metadata": {}
        }, 
        {
            "execution_count": null, 
            "cell_type": "code", 
            "metadata": {
                "scrolled": true, 
                "collapsed": true
            }, 
            "outputs": [], 
            "source": "#hint\n# data['Country Name']== ??\n# data[['Country Name', '2010', '2011']].iloc[[??,??]]"
        }, 
        {
            "execution_count": 157, 
            "cell_type": "code", 
            "metadata": {}, 
            "outputs": [
                {
                    "execution_count": 157, 
                    "metadata": {}, 
                    "data": {
                        "text/html": "<div>\n<style scoped>\n    .dataframe tbody tr th:only-of-type {\n        vertical-align: middle;\n    }\n\n    .dataframe tbody tr th {\n        vertical-align: top;\n    }\n\n    .dataframe thead th {\n        text-align: right;\n    }\n</style>\n<table border=\"1\" class=\"dataframe\">\n  <thead>\n    <tr style=\"text-align: right;\">\n      <th></th>\n      <th>Country Name</th>\n      <th>2010</th>\n      <th>2011</th>\n    </tr>\n  </thead>\n  <tbody>\n    <tr>\n      <th>52</th>\n      <td>Germany</td>\n      <td>9.179817</td>\n      <td>8.917833</td>\n    </tr>\n    <tr>\n      <th>73</th>\n      <td>France</td>\n      <td>5.496707</td>\n      <td>5.185043</td>\n    </tr>\n  </tbody>\n</table>\n</div>", 
                        "text/plain": "   Country Name      2010      2011\n52      Germany  9.179817  8.917833\n73       France  5.496707  5.185043"
                    }, 
                    "output_type": "execute_result"
                }
            ], 
            "source": "## YOUR CODE BELOW\n\ndata[['Country Name', '2010', '2011']][52:74]\ndata[(data['Country Name'] == 'France') | (data['Country Name'] == 'Germany')][['Country Name','2010','2011']]\n\ndata[data['Country Name'].isin(['France', 'Germany'])][['Country Name','2010','2011']]\n\n# note 'in' is bad for performance"
        }, 
        {
            "source": "## Want to learn more?\n\nYou can take free [Python 101](https://cocl.us/DX0108EN_PY0101EN) or [Data Analysis with Python](https://cocl.us/DX0108EN_DA0101EN) courses.  \n\nAlso, you can use Data Science Experience to run these notebooks faster with bigger datasets. Data Science Experience is IBM's leading cloud solution for data scientists, built by data scientists. With Jupyter notebooks, RStudio, Apache Spark and popular libraries pre-packaged in the cloud, DSX enables data scientists to collaborate on their projects without having to install anything. Join the fast-growing community of DSX users today with a free account at [Data Science Experience](https://cocl.us/DX0108EN_DSX). ", 
            "cell_type": "markdown", 
            "metadata": {}
        }, 
        {
            "source": "<hr>\nCopyright &copy; 2017 [Cognitive Class](https://cognitiveclass.ai/?utm_source=cccopyrightlink&utm_medium=cclabs). This notebook and its source code are released under the terms of the [MIT License](https://cognitiveclass.ai/mit-license/).", 
            "cell_type": "markdown", 
            "metadata": {}
        }, 
        {
            "source": "\n<h3>Authors:</h3>\n<article class=\"teacher\">\n<div class=\"teacher-image\" style=\"    float: left;\n    width: 115px;\n    height: 115px;\n    margin-right: 10px;\n    margin-bottom: 10px;\n    border: 1px solid #CCC;\n    padding: 3px;\n    border-radius: 3px;\n    text-align: center;\"><img class=\"alignnone wp-image-2258 \" src=\"https://ibm.box.com/shared/static/tyd41rlrnmfrrk78jx521eb73fljwvv0.jpg\" alt=\"Saeed Aghabozorgi\" width=\"178\" height=\"178\" /></div>\n<h4>Saeed Aghabozorgi</h4>\n<p><a href=\"https://ca.linkedin.com/in/saeedaghabozorgi\">Saeed Aghabozorgi</a>, PhD is a Data Scientist in IBM with a track record of developing enterprise level applications that substantially increases clients\u2019 ability to turn data into actionable knowledge. He is a researcher in data mining field and expert in developing advanced analytic methods like machine learning and statistical modelling on large datasets.</p>\n</article>\n<br>\n<article class=\"teacher\">\n<div class=\"teacher-image\" style=\"    float: left;\n    width: 115px;\n    height: 115px;\n    margin-right: 10px;\n    margin-bottom: 10px;\n    border: 1px solid #CCC;\n    padding: 3px;\n    border-radius: 3px;\n    text-align: center;\"><img class=\"alignnone size-medium wp-image-2177\" src=\"https://ibm.box.com/shared/static/2ygdi03ahcr97df2ofrr6cf8knq4kodd.jpg\" alt=\"Polong Lin\" width=\"300\" height=\"300\" /></div>\n<h4>Polong Lin</h4>\n<p>\n<a href=\"https://ca.linkedin.com/in/polonglin\">Polong Lin</a> is a Data Scientist and Lead Data Science Advocate at IBM. Polong is a regular speaker in conferences and meetups where he teaches data science. Polong holds a M.Sc. in Cognitive Psychology.</p>\n</article>", 
            "cell_type": "markdown", 
            "metadata": {}
        }, 
        {
            "execution_count": null, 
            "cell_type": "code", 
            "metadata": {}, 
            "outputs": [], 
            "source": ""
        }
    ], 
    "metadata": {
        "kernelspec": {
            "display_name": "Python 3.5 with Spark 1.6 (Unsupported)", 
            "name": "python3", 
            "language": "python"
        }, 
        "widgets": {
            "state": {}, 
            "version": "1.1.2"
        }, 
        "language_info": {
            "mimetype": "text/x-python", 
            "nbconvert_exporter": "python", 
            "version": "3.5.4", 
            "name": "python", 
            "file_extension": ".py", 
            "pygments_lexer": "ipython3", 
            "codemirror_mode": {
                "version": 3, 
                "name": "ipython"
            }
        }
    }, 
    "nbformat": 4
}